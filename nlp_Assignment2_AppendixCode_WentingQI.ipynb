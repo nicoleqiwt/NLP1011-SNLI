{
 "cells": [
  {
   "cell_type": "markdown",
   "metadata": {},
   "source": [
    "# DS-GS1011 nlp-Assignment 2  RNN/CNN-based Natural Language Inference\n",
    "\n",
    "__Student Name:__ Wenting Qi\n",
    "\n",
    "__Net ID:__ wq244"
   ]
  },
  {
   "cell_type": "code",
   "execution_count": 2,
   "metadata": {
    "collapsed": true
   },
   "outputs": [],
   "source": [
    "import os\n",
    "import random\n",
    "import string\n",
    "import torch\n",
    "import time\n",
    "import pdb\n",
    "import csv\n",
    "import matplotlib.pyplot as plt\n",
    "import matplotlib.patches as mpatches\n",
    "import pandas as pd\n",
    "import numpy as np\n",
    "import pickle as pkl\n",
    "import torch.nn as nn\n",
    "import torch.nn.functional as F\n",
    "from torch.utils.data import Dataset\n",
    "from collections import Counter\n",
    "from nltk.corpus import stopwords\n",
    "from nltk.stem import PorterStemmer\n",
    "\n"
   ]
  },
  {
   "cell_type": "code",
   "execution_count": 3,
   "metadata": {},
   "outputs": [
    {
     "name": "stdout",
     "output_type": "stream",
     "text": [
      "/home/wq244\n"
     ]
    }
   ],
   "source": [
    "cwd = os.getcwd()\n",
    "print(cwd)\n",
    "datadir = cwd+'/hw2_data'\n",
    "os.chdir(datadir)"
   ]
  },
  {
   "cell_type": "code",
   "execution_count": 10,
   "metadata": {
    "collapsed": true
   },
   "outputs": [],
   "source": [
    "\n",
    "pad_idx = 0\n",
    "unk_idx = 1\n",
    "\n",
    "\n",
    "def max_len(data):\n",
    "    # get the maximum length of the two sentences, in order to save computing costs, we output seperate max_len for each sentence\n",
    "    max_len = [max([len(sample[0]) for sample in data]), max([len(sample[1]) for sample in data])]\n",
    "\n",
    "    return max_len\n",
    "\n",
    "\n",
    "def convert_to_words(data):\n",
    "    return [(sample[0].split(' '), sample[1].split(' '), sample[2]) for sample in data]\n",
    "\n",
    "# convert the label to numerical classes\n",
    "def convert_label(data):\n",
    "    for sample in data:\n",
    "        if sample[2] == 'contradiction':\n",
    "            sample[2] = 0\n",
    "        elif sample[2] == 'entailment':\n",
    "            sample[2] = 1\n",
    "        else:\n",
    "            sample[2] = 2\n",
    "    return data\n",
    "\n",
    "\n",
    "\n",
    "def read_data():\n",
    "    tsvfile1, tsvfile2 = open(datadir+'/snli_train.tsv'), open(datadir+'/snli_val.tsv')\n",
    "    train_data = csv.reader(tsvfile1, delimiter='\\t')\n",
    "    val_data = csv.reader(tsvfile2, delimiter='\\t')\n",
    "    train_data, val_data = list(train_data), list(val_data)\n",
    "    train_data, val_data = train_data[1:], val_data[1:]\n",
    "    train_data, val_data = convert_label(train_data), convert_label(val_data)\n",
    "    train_data, val_data = convert_to_words(train_data), convert_to_words(val_data)\n",
    "    Max_len = max_len(train_data)\n",
    "    tsvfile1.close()\n",
    "    tsvfile2.close()\n",
    "    return train_data, val_data, Max_len\n",
    "\n",
    "def sep_genre(data):\n",
    "    data_1,data_2,data_3,data_4,data_5=[],[],[],[],[]\n",
    "    for x in data:\n",
    "        if x[3] =='fiction':\n",
    "            data_1.append(x[:-1])\n",
    "        elif x[3] =='government':\n",
    "            data_2.append(x[:-1])\n",
    "        elif x[3] == 'slate':\n",
    "            data_3.append(x[:-1])\n",
    "        elif x[3] == 'telephone':\n",
    "            data_4.append(x[:-1])\n",
    "        elif x[3] == 'travel':\n",
    "            data_5.append(x[:-1])\n",
    "    return data_1, data_2, data_3, data_4, data_5\n",
    "\n",
    "\n",
    "def read_data_multi():\n",
    "    tsvfile1, tsvfile2 = open(datadir+'/mnli_train.tsv'), open(datadir+'/mnli_val.tsv')\n",
    "    train_data = csv.reader(tsvfile1, delimiter='\\t')\n",
    "    val_data = csv.reader(tsvfile2, delimiter='\\t')\n",
    "    train_data, val_data = list(train_data), list(val_data)\n",
    "    train_data, val_data = train_data[1:], val_data[1:]\n",
    "    genre = [x[3] for x in val_data]\n",
    "    train_data_1, train_data_2, train_data_3, train_data_4, train_data_5 = sep_genre(train_data)\n",
    "    val_data_1, val_data_2, val_data_3, val_data_4, val_data_5 = sep_genre(val_data)\n",
    "    \n",
    "    train_data_1, val_data_1 = convert_label(train_data_1), convert_label(val_data_1)\n",
    "    train_data_2, val_data_2 = convert_label(train_data_2), convert_label(val_data_2)\n",
    "    train_data_3, val_data_3 = convert_label(train_data_3), convert_label(val_data_3)\n",
    "    train_data_4, val_data_4 = convert_label(train_data_4), convert_label(val_data_4)\n",
    "    train_data_5, val_data_5 = convert_label(train_data_5), convert_label(val_data_5)\n",
    "    \n",
    "    train_data_1, val_data_1 = convert_to_words(train_data_1), convert_to_words(val_data_1)\n",
    "    train_data_2, val_data_2 = convert_to_words(train_data_2), convert_to_words(val_data_2)\n",
    "    train_data_3, val_data_3 = convert_to_words(train_data_3), convert_to_words(val_data_3)\n",
    "    train_data_4, val_data_4 = convert_to_words(train_data_4), convert_to_words(val_data_4)\n",
    "    train_data_5, val_data_5 = convert_to_words(train_data_5), convert_to_words(val_data_5)\n",
    "    max_len_1, max_len_2, max_len_3, max_len_4, max_len_5 = max_len(train_data_1), max_len(train_data_2), max_len(train_data_3), max_len(train_data_4), max_len(train_data_5)\n",
    "    tsvfile1.close()\n",
    "    tsvfile2.close()\n",
    "    return train_data_1, train_data_2, train_data_3, train_data_4, train_data_5, val_data_1, val_data_2, val_data_3, val_data_4, val_data_5 ,max_len_1, max_len_2, max_len_3, max_len_4, max_len_5"
   ]
  },
  {
   "cell_type": "code",
   "execution_count": 11,
   "metadata": {},
   "outputs": [],
   "source": [
    "train_data, val_data, MAX_SENTENCE_LENGTH = read_data()"
   ]
  },
  {
   "cell_type": "code",
   "execution_count": 12,
   "metadata": {
    "collapsed": true
   },
   "outputs": [],
   "source": [
    "train_data_1, train_data_2, train_data_3, train_data_4, train_data_5, val_data_1, val_data_2, val_data_3, val_data_4, val_data_5 ,max_len_1, max_len_2, max_len_3, max_len_4, max_len_5 = read_data_multi()"
   ]
  },
  {
   "cell_type": "code",
   "execution_count": 13,
   "metadata": {
    "collapsed": true
   },
   "outputs": [],
   "source": [
    "# loading the Fasttext word vectors sets from wikipedia news, the vocab size would be 50000\n",
    "words_to_load = 50000\n",
    "# generate random vectors for pad and out-of-vocab words\n",
    "pad = np.random.uniform(low=-1, high=1, size=(300,))\n",
    "unk = np.random.uniform(low=-1, high=1, size=(300,))\n",
    "\n",
    "with open('wiki-news-300d-1M.vec') as f:\n",
    "    id2emb = np.zeros((words_to_load+2, 300))\n",
    "    id2emb[0], id2emb[1] = pad, unk\n",
    "    word2id = {'<pad>': pad_idx,'<unk>': unk_idx}\n",
    "    vocab = ['<pad>','<unk>']\n",
    "    for i, line in enumerate(f,start=1):\n",
    "        if i >= words_to_load: \n",
    "            break\n",
    "        if i>1:\n",
    "            s = line.split()\n",
    "            id2emb[i, :] = np.asarray(s[1:])\n",
    "            word2id[s[0]] = i\n",
    "            vocab.append(s[0])"
   ]
  },
  {
   "cell_type": "code",
   "execution_count": 14,
   "metadata": {
    "collapsed": true
   },
   "outputs": [],
   "source": [
    "class VocabDataset(Dataset):\n",
    "\n",
    "    def __init__(self, data_tuple, word2id):\n",
    "        self.s1_list, self.s2_list, self.target_list = zip(*data_tuple)\n",
    "        assert (len(self.s1_list) == len(self.target_list)) and (len(self.s2_list) == len(self.target_list))\n",
    "        self.word2id = word2id\n",
    "\n",
    "    def __len__(self):\n",
    "        return len(self.s1_list)\n",
    "\n",
    "    def __getitem__(self, key):\n",
    "        # convert word token into indices\n",
    "        s1word_idx = [self.word2id[c] if c in self.word2id.keys() else unk_idx  for c in self.s1_list[key][:MAX_SENTENCE_LENGTH[0]]]\n",
    "        s2word_idx = [self.word2id[c] if c in self.word2id.keys() else unk_idx  for c in self.s2_list[key][:MAX_SENTENCE_LENGTH[1]]]\n",
    "        label = self.target_list[key]\n",
    "        return [s1word_idx, s2word_idx, len(s1word_idx), len(s2word_idx), label]\n",
    "\n",
    "def vocab_collate_func(batch):\n",
    "\n",
    "    s1_data_list = []\n",
    "    s2_data_list = []\n",
    "    label_list = []\n",
    "    s1_length_list = []\n",
    "    s2_length_list = []\n",
    "\n",
    "    for datum in batch:\n",
    "        label_list.append(datum[4])\n",
    "        s1_length_list.append(datum[2])\n",
    "        s2_length_list.append(datum[3])\n",
    "    # padding\n",
    "    for datum in batch:\n",
    "        s1_padded_vec = np.pad(np.array(datum[0]),\n",
    "                                pad_width=((0,MAX_SENTENCE_LENGTH[0]-datum[2])),\n",
    "                                mode=\"constant\", constant_values=0)\n",
    "        s2_padded_vec = np.pad(np.array(datum[1]),\n",
    "                                pad_width=((0,MAX_SENTENCE_LENGTH[1]-datum[3])),\n",
    "                                mode=\"constant\", constant_values=0)\n",
    "        s1_data_list.append(s1_padded_vec)\n",
    "        s2_data_list.append(s2_padded_vec)\n",
    "    # sort in descending length according to s1\n",
    "    ind_dec_order = np.argsort(s1_length_list)[::-1]\n",
    "    s1_data_list = np.array(s1_data_list)[ind_dec_order]\n",
    "    s2_data_list = np.array(s2_data_list)[ind_dec_order]\n",
    "    s1_length_list = np.array(s1_length_list)[ind_dec_order]\n",
    "    s2_length_list = np.array(s2_length_list)[ind_dec_order]\n",
    "    label_list = np.array(label_list)[ind_dec_order]\n",
    "    return [torch.from_numpy(np.array(s1_data_list)), torch.from_numpy(np.array(s2_data_list)), torch.LongTensor(s1_length_list), torch.LongTensor(s2_length_list), torch.LongTensor(label_list).to(device)]\n",
    "\n"
   ]
  },
  {
   "cell_type": "code",
   "execution_count": 15,
   "metadata": {
    "collapsed": true
   },
   "outputs": [],
   "source": [
    "BATCH_SIZE = 128"
   ]
  },
  {
   "cell_type": "code",
   "execution_count": 16,
   "metadata": {},
   "outputs": [],
   "source": [
    "# Build train, valid and test dataloaders\n",
    "\n",
    "train_dataset = VocabDataset(train_data, word2id)\n",
    "train_loader = torch.utils.data.DataLoader(dataset=train_dataset,\n",
    "                                           batch_size=BATCH_SIZE,\n",
    "                                           collate_fn=vocab_collate_func,\n",
    "                                           shuffle=True)\n",
    "\n",
    "val_dataset = VocabDataset(val_data, word2id)\n",
    "val_loader = torch.utils.data.DataLoader(dataset=val_dataset,\n",
    "                                           batch_size=BATCH_SIZE,\n",
    "                                           collate_fn=vocab_collate_func,\n",
    "                                           shuffle=True)\n",
    "\n"
   ]
  },
  {
   "cell_type": "code",
   "execution_count": 17,
   "metadata": {},
   "outputs": [],
   "source": [
    "val_dataset_1 = VocabDataset(val_data_1, word2id)\n",
    "val_loader_1 = torch.utils.data.DataLoader(dataset=val_dataset_1,\n",
    "                                           batch_size=BATCH_SIZE,\n",
    "                                           collate_fn=vocab_collate_func,\n",
    "                                           shuffle=True)\n",
    "val_dataset_2 = VocabDataset(val_data_2, word2id)\n",
    "val_loader_2 = torch.utils.data.DataLoader(dataset=val_dataset_2,\n",
    "                                           batch_size=BATCH_SIZE,\n",
    "                                           collate_fn=vocab_collate_func,\n",
    "                                           shuffle=True)\n",
    "val_dataset_3 = VocabDataset(val_data_3, word2id)\n",
    "val_loader_3 = torch.utils.data.DataLoader(dataset=val_dataset_3,\n",
    "                                           batch_size=BATCH_SIZE,\n",
    "                                           collate_fn=vocab_collate_func,\n",
    "                                           shuffle=True)\n",
    "val_dataset_4 = VocabDataset(val_data_4, word2id)\n",
    "val_loader_4 = torch.utils.data.DataLoader(dataset=val_dataset_4,\n",
    "                                           batch_size=BATCH_SIZE,\n",
    "                                           collate_fn=vocab_collate_func,\n",
    "                                           shuffle=True)\n",
    "val_dataset_5 = VocabDataset(val_data_5, word2id)\n",
    "val_loader_5 = torch.utils.data.DataLoader(dataset=val_dataset_5,\n",
    "                                           batch_size=BATCH_SIZE,\n",
    "                                           collate_fn=vocab_collate_func,\n",
    "                                           shuffle=True)"
   ]
  },
  {
   "cell_type": "code",
   "execution_count": 18,
   "metadata": {
    "collapsed": true
   },
   "outputs": [],
   "source": [
    "if torch.cuda.is_available and torch.has_cudnn:\n",
    "    device = torch.device('cuda')\n",
    "else:\n",
    "    device = torch.device(\"cpu\")"
   ]
  },
  {
   "cell_type": "markdown",
   "metadata": {
    "collapsed": true
   },
   "source": [
    "## RNN Model"
   ]
  },
  {
   "cell_type": "markdown",
   "metadata": {},
   "source": [
    "### Model I"
   ]
  },
  {
   "cell_type": "code",
   "execution_count": 37,
   "metadata": {
    "collapsed": true
   },
   "outputs": [],
   "source": [
    "class RNN(nn.Module):\n",
    "    def __init__(self, hidden_size, num_layers, num_classes, vocab_size):\n",
    "        super(RNN, self).__init__()\n",
    "        self.num_layers, self.hidden_size = num_layers, hidden_size\n",
    "        self.rnn = nn.GRU(300,hidden_size, num_layers, batch_first=True, bidirectional=True)\n",
    "        self.linear1 = nn.Linear(hidden_size*4, hidden_size*4)\n",
    "        self.linear2 = nn.Linear(hidden_size*4, num_classes) \n",
    "\n",
    "\n",
    "\n",
    "    def forward(self, s1, s2, s1_lengths, s2_lengths):\n",
    "        batch_size_1, seq_len_1 = s1.size()\n",
    "        batch_size_2, seq_len_2, = s2.size()\n",
    "        hidden1 = torch.zeros(self.num_layers*2, batch_size_1, self.hidden_size).to(device)\n",
    "        # embedding word tokens using the loaded vector sets\n",
    "        s1_embed = np.zeros((batch_size_1, seq_len_1,300))\n",
    "        for row, i in enumerate(s1):           \n",
    "            for col, j in enumerate(i):\n",
    "                s1_embed[row][col]=np.asarray(id2emb[j])\n",
    "        s1_embed = torch.FloatTensor(s1_embed).to(device)\n",
    "\n",
    "        s1_embed = torch.nn.utils.rnn.pack_padded_sequence(s1_embed, s1_lengths.numpy(), batch_first=True)\n",
    "        s1_rnn_out, self.hidden_1 = self.rnn(s1_embed.to(device), hidden1)\n",
    "        s1_rnn_out, _ = torch.nn.utils.rnn.pad_packed_sequence(s1_rnn_out.to(device), batch_first=True)\n",
    "        # hidden representation of sentence 1\n",
    "        s1_rnn_out = torch.sum(s1_rnn_out, dim=1).to(device)\n",
    "\n",
    "        \n",
    "\n",
    "        # embedding s2\n",
    "        s2_embed = np.zeros((batch_size_2, seq_len_2, 300))\n",
    "        for row, i in enumerate(s2):\n",
    "            for col, j in enumerate(i):\n",
    "                s2_embed[row][col]=np.asarray(id2emb[j[0]])\n",
    "        s2_lengths = torch.Tensor.numpy(s2_lengths)\n",
    "        # sort sentence 2 accroding to its length\n",
    "        ind_dec_order_s2 = np.argsort(s2_lengths)[::-1]\n",
    "        rev_ind = np.argsort(ind_dec_order_s2)\n",
    "        s2_embed = np.array(s2_embed)[ind_dec_order_s2]\n",
    "        s2_lengths = np.array(s2_lengths)[ind_dec_order_s2]\n",
    "        s2_embed = torch.FloatTensor(s2_embed).to(device)\n",
    "        hidden2 = torch.zeros(self.num_layers*2, batch_size_2, self.hidden_size).to(device)\n",
    "        s2_embed = torch.nn.utils.rnn.pack_padded_sequence(s2_embed, s2_lengths, batch_first=True)\n",
    "        s2_rnn_out, self.hidden_2 = self.rnn(s2_embed.to(device), hidden2)\n",
    "        s2_rnn_out, _ = torch.nn.utils.rnn.pad_packed_sequence(s2_rnn_out, batch_first=True)\n",
    "        # reverse the sorting to match sentence 1\n",
    "        s2_rnn_out = s2_rnn_out[rev_ind]\n",
    "        # hidden representation of sentence 2\n",
    "        s2_rnn_out = torch.sum(s2_rnn_out.to(device), dim=1)\n",
    "        # concat the two representations\n",
    "        rnn_out = torch.cat((s1_rnn_out, s2_rnn_out), 1).to(device)\n",
    "        out = self.linear1(rnn_out)\n",
    "        logits = self.linear2(out.to(device))\n",
    "        return logits\n",
    "\n",
    "\n",
    "\n"
   ]
  },
  {
   "cell_type": "code",
   "execution_count": 39,
   "metadata": {},
   "outputs": [
    {
     "name": "stdout",
     "output_type": "stream",
     "text": [
      "number of parameters:402803\n"
     ]
    },
    {
     "name": "stderr",
     "output_type": "stream",
     "text": [
      "/home/wq244/anaconda3/lib/python3.5/site-packages/ipykernel_launcher.py:34: UserWarning: invalid index of a 0-dim tensor. This will be an error in PyTorch 0.5. Use tensor.item() to convert a 0-dim tensor to a Python number\n"
     ]
    },
    {
     "name": "stdout",
     "output_type": "stream",
     "text": [
      "Epoch: [1/5], Step: [101/782], Validation Acc: 51.2\n",
      "Epoch: [1/5], Step: [201/782], Validation Acc: 52.6\n",
      "Epoch: [1/5], Step: [301/782], Validation Acc: 53.5\n",
      "Epoch: [1/5], Step: [401/782], Validation Acc: 57.3\n",
      "Epoch: [1/5], Step: [501/782], Validation Acc: 56.7\n",
      "Epoch: [1/5], Step: [601/782], Validation Acc: 58.2\n",
      "Epoch: [1/5], Step: [701/782], Validation Acc: 57.8\n",
      "Training Loss: 0.947859250218667, Validation Loss: 0.9919396787881851\n",
      "Epoch: [2/5], Step: [101/782], Validation Acc: 58.9\n",
      "Epoch: [2/5], Step: [201/782], Validation Acc: 59.4\n",
      "Epoch: [2/5], Step: [301/782], Validation Acc: 58.6\n",
      "Epoch: [2/5], Step: [401/782], Validation Acc: 57.9\n",
      "Epoch: [2/5], Step: [501/782], Validation Acc: 59.7\n",
      "Epoch: [2/5], Step: [601/782], Validation Acc: 59.7\n",
      "Epoch: [2/5], Step: [701/782], Validation Acc: 61.4\n",
      "Training Loss: 0.8838316390429006, Validation Loss: 0.9710007607936859\n",
      "Epoch: [3/5], Step: [101/782], Validation Acc: 59.5\n",
      "Epoch: [3/5], Step: [201/782], Validation Acc: 59.6\n",
      "Epoch: [3/5], Step: [301/782], Validation Acc: 61.3\n",
      "Epoch: [3/5], Step: [401/782], Validation Acc: 61.3\n",
      "Epoch: [3/5], Step: [501/782], Validation Acc: 62.4\n",
      "Epoch: [3/5], Step: [601/782], Validation Acc: 60.6\n",
      "Epoch: [3/5], Step: [701/782], Validation Acc: 60.7\n",
      "Training Loss: 0.8571355089812023, Validation Loss: 0.968774102628231\n",
      "Epoch: [4/5], Step: [101/782], Validation Acc: 60.4\n",
      "Epoch: [4/5], Step: [201/782], Validation Acc: 59.9\n",
      "Epoch: [4/5], Step: [301/782], Validation Acc: 62.2\n",
      "Epoch: [4/5], Step: [401/782], Validation Acc: 62.3\n",
      "Epoch: [4/5], Step: [501/782], Validation Acc: 61.8\n",
      "Epoch: [4/5], Step: [601/782], Validation Acc: 61.1\n",
      "Epoch: [4/5], Step: [701/782], Validation Acc: 60.7\n",
      "Training Loss: 0.8393679635451577, Validation Loss: 0.9592429846525192\n",
      "Epoch: [5/5], Step: [101/782], Validation Acc: 62.4\n",
      "Epoch: [5/5], Step: [201/782], Validation Acc: 62.1\n",
      "Epoch: [5/5], Step: [301/782], Validation Acc: 62.8\n",
      "Epoch: [5/5], Step: [401/782], Validation Acc: 63.2\n",
      "Epoch: [5/5], Step: [501/782], Validation Acc: 61.6\n",
      "Epoch: [5/5], Step: [601/782], Validation Acc: 61.9\n",
      "Epoch: [5/5], Step: [701/782], Validation Acc: 60.4\n",
      "Training Loss: 0.8264955604625175, Validation Loss: 0.9522246643900871\n",
      "Time elapse: 566.7187786102295\n"
     ]
    }
   ],
   "source": [
    "t0 = time.time()\n",
    "val_acc_epochs_biRNN_100 = []\n",
    "train_loss_RNN_100 = []\n",
    "val_loss_RNN_100 = []\n",
    "\n",
    "def test_model(loader, model):\n",
    "    \"\"\"\n",
    "    Help function that tests the model's performance on a dataset\n",
    "    @param: loader - data loader for the dataset to test against\n",
    "    \"\"\"\n",
    "    correct = 0\n",
    "    total = 0\n",
    "    model.eval()\n",
    "    running_loss = 0\n",
    "    for s1, s2, length_1, length_2, labels in loader:\n",
    "        s1_batch, s2_batch, length_1_batch, length_2_batch, label_batch= s1, s2, length_1, length_2, labels\n",
    "        outputs = F.softmax(model(s1_batch, s2_batch, length_1_batch, length_2_batch), dim=1)\n",
    "        predicted = outputs.max(1, keepdim=True)[1]\n",
    "        loss = criterion(outputs, labels)\n",
    "\n",
    "        running_loss += loss.item()       \n",
    "\n",
    "        total += labels.size(0)\n",
    "        correct += predicted.eq(labels.view_as(predicted)).sum().item()\n",
    "    val_loss = running_loss/len(loader)\n",
    "    return (100 * correct / total), val_loss\n",
    "\n",
    "model = RNN(hidden_size=100, num_layers=1, num_classes=3, vocab_size=len(vocab))\n",
    "model.to(device)\n",
    "num_p = sum((p.numel() for p in model.parameters() if p.requires_grad))\n",
    "print('number of parameters:{}'.format(num_p))\n",
    "learning_rate = 3e-4\n",
    "num_epochs = 5\n",
    "\n",
    "# Criterion and Optimizer\n",
    "criterion = torch.nn.CrossEntropyLoss()\n",
    "optimizer = torch.optim.Adam(model.parameters(), lr=learning_rate)\n",
    "\n",
    "# Train the model\n",
    "total_step = len(train_loader)\n",
    "\n",
    "for epoch in range(num_epochs):\n",
    "    running_loss = 0.0\n",
    "    for i, (s1, s2, length_1, length_2, labels) in enumerate(train_loader):\n",
    "        model.train()\n",
    "        optimizer.zero_grad()\n",
    "        # Forward pass\n",
    "        outputs = model(s1, s2, length_1, length_2)\n",
    "        loss = criterion(outputs, labels)\n",
    "        \n",
    "\n",
    "        # Backward and optimize\n",
    "        loss.backward()\n",
    "        optimizer.step()\n",
    "        running_loss += loss.item() \n",
    "        # validate every 100 iterations\n",
    "        if i > 0 and i % 100 == 0:\n",
    "            # validate\n",
    "            val_acc, val_loss = test_model(val_loader, model)\n",
    "            val_acc_epochs_biRNN_100.append(val_acc)\n",
    "            \n",
    "            print('Epoch: [{}/{}], Step: [{}/{}], Validation Acc: {}'.format(\n",
    "                       epoch+1, num_epochs, i+1, len(train_loader), val_acc))\n",
    "    val_loss_RNN_100.append(val_loss)        \n",
    "    train_loss = running_loss/total_step\n",
    "    train_loss_RNN_100.append(train_loss)\n",
    "    print('Training Loss: {}, Validation Loss: {}'.format(train_loss, val_loss))\n",
    "    \n",
    "\n",
    "t1 = time.time()\n",
    "print ('Time elapse: {}'.format(t1-t0))"
   ]
  },
  {
   "cell_type": "code",
   "execution_count": 44,
   "metadata": {},
   "outputs": [
    {
     "data": {
      "text/plain": [
       "<matplotlib.text.Text at 0x7f8cf9bbb940>"
      ]
     },
     "execution_count": 44,
     "metadata": {},
     "output_type": "execute_result"
    },
    {
     "data": {
      "image/png": "[encoded data removed]",
      "text/plain": [
       "<matplotlib.figure.Figure at 0x7f8d3274e198>"
      ]
     },
     "metadata": {},
     "output_type": "display_data"
    }
   ],
   "source": [
    "train=plt.plot(train_loss_RNN_100, marker='o', label='train loss')\n",
    "val=plt.plot(val_loss_RNN_100, marker='o', label='val loss')\n",
    "\n",
    "\n",
    "plt.legend()\n",
    "plt.xticks([])\n",
    "plt.grid()\n",
    "plt.ylabel('loss')"
   ]
  },
  {
   "cell_type": "markdown",
   "metadata": {},
   "source": [
    "### Model II"
   ]
  },
  {
   "cell_type": "code",
   "execution_count": 40,
   "metadata": {},
   "outputs": [
    {
     "name": "stdout",
     "output_type": "stream",
     "text": [
      "number of parameters:2528403\n"
     ]
    },
    {
     "name": "stderr",
     "output_type": "stream",
     "text": [
      "/home/wq244/anaconda3/lib/python3.5/site-packages/ipykernel_launcher.py:34: UserWarning: invalid index of a 0-dim tensor. This will be an error in PyTorch 0.5. Use tensor.item() to convert a 0-dim tensor to a Python number\n"
     ]
    },
    {
     "name": "stdout",
     "output_type": "stream",
     "text": [
      "Epoch: [1/5], Step: [101/782], Validation Acc: 52.8\n",
      "Epoch: [1/5], Step: [201/782], Validation Acc: 54.7\n",
      "Epoch: [1/5], Step: [301/782], Validation Acc: 56.0\n",
      "Epoch: [1/5], Step: [401/782], Validation Acc: 56.0\n",
      "Epoch: [1/5], Step: [501/782], Validation Acc: 54.5\n",
      "Epoch: [1/5], Step: [601/782], Validation Acc: 57.3\n",
      "Epoch: [1/5], Step: [701/782], Validation Acc: 58.7\n",
      "Training Loss: 0.9344447944170374, Validation Loss: 0.9822770580649376\n",
      "Epoch: [2/5], Step: [101/782], Validation Acc: 59.0\n",
      "Epoch: [2/5], Step: [201/782], Validation Acc: 59.3\n",
      "Epoch: [2/5], Step: [301/782], Validation Acc: 59.2\n",
      "Epoch: [2/5], Step: [401/782], Validation Acc: 60.5\n",
      "Epoch: [2/5], Step: [501/782], Validation Acc: 60.6\n",
      "Epoch: [2/5], Step: [601/782], Validation Acc: 60.5\n",
      "Epoch: [2/5], Step: [701/782], Validation Acc: 61.0\n",
      "Training Loss: 0.8703551333578651, Validation Loss: 0.9772488176822662\n",
      "Epoch: [3/5], Step: [101/782], Validation Acc: 60.8\n",
      "Epoch: [3/5], Step: [201/782], Validation Acc: 61.5\n",
      "Epoch: [3/5], Step: [301/782], Validation Acc: 60.3\n",
      "Epoch: [3/5], Step: [401/782], Validation Acc: 61.4\n",
      "Epoch: [3/5], Step: [501/782], Validation Acc: 60.1\n",
      "Epoch: [3/5], Step: [601/782], Validation Acc: 60.7\n",
      "Epoch: [3/5], Step: [701/782], Validation Acc: 60.9\n",
      "Training Loss: 0.8471027854306009, Validation Loss: 0.9578435495495796\n",
      "Epoch: [4/5], Step: [101/782], Validation Acc: 61.6\n",
      "Epoch: [4/5], Step: [201/782], Validation Acc: 61.3\n",
      "Epoch: [4/5], Step: [301/782], Validation Acc: 60.9\n",
      "Epoch: [4/5], Step: [401/782], Validation Acc: 62.1\n",
      "Epoch: [4/5], Step: [501/782], Validation Acc: 61.8\n",
      "Epoch: [4/5], Step: [601/782], Validation Acc: 61.9\n",
      "Epoch: [4/5], Step: [701/782], Validation Acc: 61.7\n",
      "Training Loss: 0.8292253204166432, Validation Loss: 0.9564739763736725\n",
      "Epoch: [5/5], Step: [101/782], Validation Acc: 60.9\n",
      "Epoch: [5/5], Step: [201/782], Validation Acc: 62.0\n",
      "Epoch: [5/5], Step: [301/782], Validation Acc: 61.9\n",
      "Epoch: [5/5], Step: [401/782], Validation Acc: 61.8\n",
      "Epoch: [5/5], Step: [501/782], Validation Acc: 62.6\n",
      "Epoch: [5/5], Step: [601/782], Validation Acc: 61.7\n",
      "Epoch: [5/5], Step: [701/782], Validation Acc: 62.7\n",
      "Training Loss: 0.8142463593074428, Validation Loss: 0.9513677656650543\n",
      "Time elapse: 635.5432314872742\n"
     ]
    }
   ],
   "source": [
    "t0 = time.time()\n",
    "val_acc_epochs_biRNN_300 = []\n",
    "train_loss_RNN_300 = []\n",
    "val_loss_RNN_300 = []\n",
    "\n",
    "\n",
    "\n",
    "model = RNN(hidden_size=300, num_layers=1, num_classes=3, vocab_size=len(vocab))\n",
    "model.to(device)\n",
    "num_p = sum((p.numel() for p in model.parameters() if p.requires_grad))\n",
    "print('number of parameters:{}'.format(num_p))\n",
    "learning_rate = 3e-4\n",
    "num_epochs = 5\n",
    "\n",
    "# Criterion and Optimizer\n",
    "criterion = torch.nn.CrossEntropyLoss()\n",
    "optimizer = torch.optim.Adam(model.parameters(), lr=learning_rate)\n",
    "\n",
    "# Train the model\n",
    "total_step = len(train_loader)\n",
    "\n",
    "for epoch in range(num_epochs):\n",
    "    running_loss = 0.0\n",
    "    for i, (s1, s2, length_1, length_2, labels) in enumerate(train_loader):\n",
    "        model.train()\n",
    "        optimizer.zero_grad()\n",
    "        # Forward pass\n",
    "        outputs = model(s1, s2, length_1, length_2)\n",
    "        loss = criterion(outputs, labels)\n",
    "        \n",
    "\n",
    "        # Backward and optimize\n",
    "        loss.backward()\n",
    "        optimizer.step()\n",
    "        running_loss += loss.item() \n",
    "        # validate every 100 iterations\n",
    "        if i > 0 and i % 100 == 0:\n",
    "            # validate\n",
    "            val_acc, val_loss = test_model(val_loader, model)\n",
    "            val_acc_epochs_biRNN_300.append(val_acc)\n",
    "            \n",
    "            print('Epoch: [{}/{}], Step: [{}/{}], Validation Acc: {}'.format(\n",
    "                       epoch+1, num_epochs, i+1, len(train_loader), val_acc))\n",
    "    val_loss_RNN_300.append(val_loss)        \n",
    "    train_loss = running_loss/total_step\n",
    "    train_loss_RNN_300.append(train_loss)\n",
    "    print('Training Loss: {}, Validation Loss: {}'.format(train_loss, val_loss))\n",
    "    \n",
    "\n",
    "t1 = time.time()\n",
    "print ('Time elapse: {}'.format(t1-t0))"
   ]
  },
  {
   "cell_type": "code",
   "execution_count": 45,
   "metadata": {},
   "outputs": [
    {
     "data": {
      "text/plain": [
       "<matplotlib.text.Text at 0x7f8d337289e8>"
      ]
     },
     "execution_count": 45,
     "metadata": {},
     "output_type": "execute_result"
    },
    {
     "data": {
      "image/png": "[encoded data removed]",
      "text/plain": [
       "<matplotlib.figure.Figure at 0x7f8d3352c2b0>"
      ]
     },
     "metadata": {},
     "output_type": "display_data"
    }
   ],
   "source": [
    "train=plt.plot(train_loss_RNN_300, marker='o', label='train loss')\n",
    "val=plt.plot(val_loss_RNN_300, marker='o', label='val loss')\n",
    "\n",
    "\n",
    "plt.legend()\n",
    "plt.xticks([])\n",
    "plt.grid()\n",
    "plt.ylabel('loss')"
   ]
  },
  {
   "cell_type": "markdown",
   "metadata": {},
   "source": [
    "### Model III"
   ]
  },
  {
   "cell_type": "code",
   "execution_count": 41,
   "metadata": {
    "scrolled": true
   },
   "outputs": [
    {
     "name": "stdout",
     "output_type": "stream",
     "text": [
      "number of parameters:6414003\n"
     ]
    },
    {
     "name": "stderr",
     "output_type": "stream",
     "text": [
      "/home/wq244/anaconda3/lib/python3.5/site-packages/ipykernel_launcher.py:34: UserWarning: invalid index of a 0-dim tensor. This will be an error in PyTorch 0.5. Use tensor.item() to convert a 0-dim tensor to a Python number\n"
     ]
    },
    {
     "name": "stdout",
     "output_type": "stream",
     "text": [
      "Epoch: [1/5], Step: [101/782], Validation Acc: 54.6\n",
      "Epoch: [1/5], Step: [201/782], Validation Acc: 54.6\n",
      "Epoch: [1/5], Step: [301/782], Validation Acc: 57.4\n",
      "Epoch: [1/5], Step: [401/782], Validation Acc: 55.7\n",
      "Epoch: [1/5], Step: [501/782], Validation Acc: 59.1\n",
      "Epoch: [1/5], Step: [601/782], Validation Acc: 59.5\n",
      "Epoch: [1/5], Step: [701/782], Validation Acc: 58.6\n",
      "Training Loss: 0.9395544616615071, Validation Loss: 0.9867498427629471\n",
      "Epoch: [2/5], Step: [101/782], Validation Acc: 60.6\n",
      "Epoch: [2/5], Step: [201/782], Validation Acc: 59.0\n",
      "Epoch: [2/5], Step: [301/782], Validation Acc: 59.6\n",
      "Epoch: [2/5], Step: [401/782], Validation Acc: 58.4\n",
      "Epoch: [2/5], Step: [501/782], Validation Acc: 60.8\n",
      "Epoch: [2/5], Step: [601/782], Validation Acc: 59.5\n",
      "Epoch: [2/5], Step: [701/782], Validation Acc: 60.7\n",
      "Training Loss: 0.8703780512675605, Validation Loss: 0.9681735932826996\n",
      "Epoch: [3/5], Step: [101/782], Validation Acc: 61.0\n",
      "Epoch: [3/5], Step: [201/782], Validation Acc: 60.1\n",
      "Epoch: [3/5], Step: [301/782], Validation Acc: 61.1\n",
      "Epoch: [3/5], Step: [401/782], Validation Acc: 61.7\n",
      "Epoch: [3/5], Step: [501/782], Validation Acc: 61.4\n",
      "Epoch: [3/5], Step: [601/782], Validation Acc: 61.1\n",
      "Epoch: [3/5], Step: [701/782], Validation Acc: 61.9\n",
      "Training Loss: 0.845254581602638, Validation Loss: 0.9577450007200241\n",
      "Epoch: [4/5], Step: [101/782], Validation Acc: 61.5\n",
      "Epoch: [4/5], Step: [201/782], Validation Acc: 62.0\n",
      "Epoch: [4/5], Step: [301/782], Validation Acc: 61.8\n",
      "Epoch: [4/5], Step: [401/782], Validation Acc: 61.8\n",
      "Epoch: [4/5], Step: [501/782], Validation Acc: 61.3\n",
      "Epoch: [4/5], Step: [601/782], Validation Acc: 63.2\n",
      "Epoch: [4/5], Step: [701/782], Validation Acc: 61.2\n",
      "Training Loss: 0.8248272899471586, Validation Loss: 0.9526345953345299\n",
      "Epoch: [5/5], Step: [101/782], Validation Acc: 60.4\n",
      "Epoch: [5/5], Step: [201/782], Validation Acc: 61.4\n",
      "Epoch: [5/5], Step: [301/782], Validation Acc: 62.5\n",
      "Epoch: [5/5], Step: [401/782], Validation Acc: 61.9\n",
      "Epoch: [5/5], Step: [501/782], Validation Acc: 61.7\n",
      "Epoch: [5/5], Step: [601/782], Validation Acc: 61.8\n",
      "Epoch: [5/5], Step: [701/782], Validation Acc: 62.4\n",
      "Training Loss: 0.8076515237388708, Validation Loss: 0.9541558846831322\n",
      "Time elapse: 756.6028513908386\n"
     ]
    }
   ],
   "source": [
    "t0 = time.time()\n",
    "val_acc_epochs_biRNN_500 = []\n",
    "train_loss_RNN_500 = []\n",
    "val_loss_RNN_500 = []\n",
    "\n",
    "\n",
    "\n",
    "model = RNN(hidden_size=500, num_layers=1, num_classes=3, vocab_size=len(vocab))\n",
    "model.to(device)\n",
    "num_p = sum((p.numel() for p in model.parameters() if p.requires_grad))\n",
    "print('number of parameters:{}'.format(num_p))\n",
    "learning_rate = 3e-4\n",
    "num_epochs = 5\n",
    "\n",
    "# Criterion and Optimizer\n",
    "criterion = torch.nn.CrossEntropyLoss()\n",
    "optimizer = torch.optim.Adam(model.parameters(), lr=learning_rate)\n",
    "\n",
    "# Train the model\n",
    "total_step = len(train_loader)\n",
    "\n",
    "for epoch in range(num_epochs):\n",
    "    running_loss = 0.0\n",
    "    for i, (s1, s2, length_1, length_2, labels) in enumerate(train_loader):\n",
    "        model.train()\n",
    "        optimizer.zero_grad()\n",
    "        # Forward pass\n",
    "        outputs = model(s1, s2, length_1, length_2)\n",
    "        loss = criterion(outputs, labels)\n",
    "        \n",
    "\n",
    "        # Backward and optimize\n",
    "        loss.backward()\n",
    "        optimizer.step()\n",
    "        running_loss += loss.item() \n",
    "        # validate every 100 iterations\n",
    "        if i > 0 and i % 100 == 0:\n",
    "            # validate\n",
    "            val_acc, val_loss = test_model(val_loader, model)\n",
    "            val_acc_epochs_biRNN_500.append(val_acc)\n",
    "            \n",
    "            print('Epoch: [{}/{}], Step: [{}/{}], Validation Acc: {}'.format(\n",
    "                       epoch+1, num_epochs, i+1, len(train_loader), val_acc))\n",
    "    val_loss_RNN_500.append(val_loss)        \n",
    "    train_loss = running_loss/total_step\n",
    "    train_loss_RNN_500.append(train_loss)\n",
    "    print('Training Loss: {}, Validation Loss: {}'.format(train_loss, val_loss))\n",
    "    \n",
    "\n",
    "t1 = time.time()\n",
    "print ('Time elapse:{}'.format(t1-t0))"
   ]
  },
  {
   "cell_type": "code",
   "execution_count": 46,
   "metadata": {},
   "outputs": [
    {
     "data": {
      "text/plain": [
       "<matplotlib.text.Text at 0x7f8d337cd0b8>"
      ]
     },
     "execution_count": 46,
     "metadata": {},
     "output_type": "execute_result"
    },
    {
     "data": {
      "image/png": "[encoded data removed]",
      "text/plain": [
       "<matplotlib.figure.Figure at 0x7f8d32e71a20>"
      ]
     },
     "metadata": {},
     "output_type": "display_data"
    }
   ],
   "source": [
    "train=plt.plot(train_loss_RNN_500, marker='o', label='train loss')\n",
    "val=plt.plot(val_loss_RNN_500, marker='o', label='val loss')\n",
    "\n",
    "\n",
    "plt.legend()\n",
    "plt.xticks([])\n",
    "plt.grid()\n",
    "plt.ylabel('loss')"
   ]
  },
  {
   "cell_type": "code",
   "execution_count": 75,
   "metadata": {
    "scrolled": true
   },
   "outputs": [
    {
     "data": {
      "text/plain": [
       "<matplotlib.text.Text at 0x7fecbcb619b0>"
      ]
     },
     "execution_count": 75,
     "metadata": {},
     "output_type": "execute_result"
    },
    {
     "data": {
      "image/png": "[encoded data removed]",
      "text/plain": [
       "<matplotlib.figure.Figure at 0x7fecbedc9198>"
      ]
     },
     "metadata": {},
     "output_type": "display_data"
    }
   ],
   "source": [
    "%matplotlib inline\n",
    "\n",
    "\n",
    "hs_1=plt.plot(val_acc_epochs_biRNN_100, marker='o', label='hidden size=100')\n",
    "hs_3=plt.plot(val_acc_epochs_biRNN_300, marker='o', label='hidden size=300')\n",
    "hs_5=plt.plot(val_acc_epochs_biRNN_500, marker='o', label='hidden size=500')\n",
    "\n",
    "plt.legend()\n",
    "plt.xticks([])\n",
    "plt.grid()\n",
    "plt.ylabel('Validation Accuracy')\n"
   ]
  },
  {
   "cell_type": "markdown",
   "metadata": {},
   "source": [
    "### Model IV"
   ]
  },
  {
   "cell_type": "code",
   "execution_count": 42,
   "metadata": {
    "collapsed": true
   },
   "outputs": [],
   "source": [
    "class RNN_mul(nn.Module):\n",
    "    def __init__(self, hidden_size, num_layers, num_classes, vocab_size):\n",
    "        super(RNN_mul, self).__init__()\n",
    "        self.num_layers, self.hidden_size = num_layers, hidden_size\n",
    "        self.rnn = nn.GRU(300,hidden_size, num_layers, batch_first=True, bidirectional=True)\n",
    "        self.linear1 = nn.Linear(hidden_size*2, hidden_size*2)\n",
    "        self.linear2 = nn.Linear(hidden_size*2, num_classes) \n",
    "\n",
    "\n",
    "\n",
    "    def forward(self, s1, s2, s1_lengths, s2_lengths):\n",
    "        batch_size_1, seq_len_1 = s1.size()\n",
    "        \n",
    "        batch_size_2, seq_len_2, = s2.size()\n",
    "        hidden1 = torch.zeros(self.num_layers*2, batch_size_1, self.hidden_size).to(device)\n",
    "        s1_embed = np.zeros((batch_size_1, seq_len_1,300))\n",
    "        for row, i in enumerate(s1):           \n",
    "            for col, j in enumerate(i):\n",
    "                s1_embed[row][col]=np.asarray(id2emb[j])\n",
    "        s1_embed = torch.FloatTensor(s1_embed).to(device)\n",
    "        s1_embed = torch.nn.utils.rnn.pack_padded_sequence(s1_embed, s1_lengths.numpy(), batch_first=True)\n",
    "        s1_rnn_out, self.hidden_1 = self.rnn(s1_embed.to(device), hidden1)\n",
    "        s1_rnn_out, _ = torch.nn.utils.rnn.pad_packed_sequence(s1_rnn_out.to(device), batch_first=True)\n",
    "        s1_rnn_out = torch.sum(s1_rnn_out, dim=1).to(device)\n",
    "        \n",
    "\n",
    "        s2_embed = np.zeros((batch_size_2, seq_len_2, 300))\n",
    "        for row, i in enumerate(s2):\n",
    "            for col, j in enumerate(i):\n",
    "                s2_embed[row][col]=np.asarray(id2emb[j[0]])\n",
    "        s2_lengths = torch.Tensor.numpy(s2_lengths)\n",
    "        ind_dec_order_s2 = np.argsort(s2_lengths)[::-1]\n",
    "        rev_ind = np.argsort(ind_dec_order_s2)\n",
    "        \n",
    "        s2_embed = np.array(s2_embed)[ind_dec_order_s2]\n",
    "        s2_lengths = np.array(s2_lengths)[ind_dec_order_s2]\n",
    "        s2_embed = torch.FloatTensor(s2_embed).to(device)\n",
    "        hidden2 = torch.zeros(self.num_layers*2, batch_size_2, self.hidden_size).to(device)\n",
    "        s2_embed = torch.nn.utils.rnn.pack_padded_sequence(s2_embed, s2_lengths, batch_first=True)\n",
    "        s2_rnn_out, self.hidden_2 = self.rnn(s2_embed.to(device), hidden2)\n",
    "        s2_rnn_out, _ = torch.nn.utils.rnn.pad_packed_sequence(s2_rnn_out, batch_first=True)\n",
    "        \n",
    "        s2_rnn_out = s2_rnn_out[rev_ind]\n",
    "        s2_rnn_out = torch.sum(s2_rnn_out.to(device), dim=1)\n",
    "        rnn_out = torch.mul(s1_rnn_out, s2_rnn_out).to(device)\n",
    "        out = self.linear1(rnn_out)\n",
    "        logits = self.linear2(out.to(device))\n",
    "        return logits\n",
    "\n",
    "\n",
    "\n"
   ]
  },
  {
   "cell_type": "code",
   "execution_count": 43,
   "metadata": {},
   "outputs": [
    {
     "name": "stdout",
     "output_type": "stream",
     "text": [
      "number of parameters:3410003\n"
     ]
    },
    {
     "name": "stderr",
     "output_type": "stream",
     "text": [
      "/home/wq244/anaconda3/lib/python3.5/site-packages/ipykernel_launcher.py:30: UserWarning: invalid index of a 0-dim tensor. This will be an error in PyTorch 0.5. Use tensor.item() to convert a 0-dim tensor to a Python number\n"
     ]
    },
    {
     "name": "stdout",
     "output_type": "stream",
     "text": [
      "Epoch: [1/5], Step: [101/782], Validation Acc: 46.7\n",
      "Epoch: [1/5], Step: [201/782], Validation Acc: 50.8\n",
      "Epoch: [1/5], Step: [301/782], Validation Acc: 52.1\n",
      "Epoch: [1/5], Step: [401/782], Validation Acc: 58.3\n",
      "Epoch: [1/5], Step: [501/782], Validation Acc: 60.2\n",
      "Epoch: [1/5], Step: [601/782], Validation Acc: 60.4\n",
      "Epoch: [1/5], Step: [701/782], Validation Acc: 58.5\n",
      "Training Loss: 0.9750649286505512, Validation Loss: 0.9816606566309929\n",
      "Epoch: [2/5], Step: [101/782], Validation Acc: 60.7\n",
      "Epoch: [2/5], Step: [201/782], Validation Acc: 61.5\n",
      "Epoch: [2/5], Step: [301/782], Validation Acc: 63.3\n",
      "Epoch: [2/5], Step: [401/782], Validation Acc: 63.1\n",
      "Epoch: [2/5], Step: [501/782], Validation Acc: 61.7\n",
      "Epoch: [2/5], Step: [601/782], Validation Acc: 62.7\n",
      "Epoch: [2/5], Step: [701/782], Validation Acc: 63.3\n",
      "Training Loss: 0.8369880580078916, Validation Loss: 0.9449402317404747\n",
      "Epoch: [3/5], Step: [101/782], Validation Acc: 62.1\n",
      "Epoch: [3/5], Step: [201/782], Validation Acc: 67.0\n",
      "Epoch: [3/5], Step: [301/782], Validation Acc: 65.3\n",
      "Epoch: [3/5], Step: [401/782], Validation Acc: 65.3\n",
      "Epoch: [3/5], Step: [501/782], Validation Acc: 66.2\n",
      "Epoch: [3/5], Step: [601/782], Validation Acc: 67.0\n",
      "Epoch: [3/5], Step: [701/782], Validation Acc: 68.1\n",
      "Training Loss: 0.7669015775251267, Validation Loss: 0.9096889495849609\n",
      "Epoch: [4/5], Step: [101/782], Validation Acc: 67.4\n",
      "Epoch: [4/5], Step: [201/782], Validation Acc: 67.2\n",
      "Epoch: [4/5], Step: [301/782], Validation Acc: 67.0\n",
      "Epoch: [4/5], Step: [401/782], Validation Acc: 67.8\n",
      "Epoch: [4/5], Step: [501/782], Validation Acc: 66.1\n",
      "Epoch: [4/5], Step: [601/782], Validation Acc: 66.8\n",
      "Epoch: [4/5], Step: [701/782], Validation Acc: 69.5\n",
      "Training Loss: 0.7184464273702763, Validation Loss: 0.9019005373120308\n",
      "Epoch: [5/5], Step: [101/782], Validation Acc: 68.4\n",
      "Epoch: [5/5], Step: [201/782], Validation Acc: 68.0\n",
      "Epoch: [5/5], Step: [301/782], Validation Acc: 67.0\n",
      "Epoch: [5/5], Step: [401/782], Validation Acc: 66.8\n",
      "Epoch: [5/5], Step: [501/782], Validation Acc: 68.0\n",
      "Epoch: [5/5], Step: [601/782], Validation Acc: 70.4\n",
      "Epoch: [5/5], Step: [701/782], Validation Acc: 69.2\n",
      "Training Loss: 0.6760937252922741, Validation Loss: 0.8856732547283173\n",
      "Time elapse: 732.6161487102509\n"
     ]
    }
   ],
   "source": [
    "t0 = time.time()\n",
    "val_acc_epochs_RNNmul_500 = []\n",
    "train_loss_RNNmul_500 = []\n",
    "val_loss_RNNmul_500 = []\n",
    "\n",
    "\n",
    "\n",
    "model = RNN_mul(hidden_size=500, num_layers=1, num_classes=3, vocab_size=len(vocab))\n",
    "model.to(device)\n",
    "num_p = sum((p.numel() for p in model.parameters() if p.requires_grad))\n",
    "print('number of parameters:{}'.format(num_p))\n",
    "learning_rate = 3e-4\n",
    "num_epochs = 5\n",
    "\n",
    "# Criterion and Optimizer\n",
    "criterion = torch.nn.CrossEntropyLoss()\n",
    "optimizer = torch.optim.Adam(model.parameters(), lr=learning_rate)\n",
    "\n",
    "# Train the model\n",
    "total_step = len(train_loader)\n",
    "\n",
    "for epoch in range(num_epochs):\n",
    "    running_loss = 0.0\n",
    "    for i, (s1, s2, length_1, length_2, labels) in enumerate(train_loader):\n",
    "        model.train()\n",
    "        optimizer.zero_grad()\n",
    "        # Forward pass\n",
    "        outputs = model(s1, s2, length_1, length_2)\n",
    "        loss = criterion(outputs, labels)\n",
    "        \n",
    "\n",
    "        # Backward and optimize\n",
    "        loss.backward()\n",
    "        optimizer.step()\n",
    "        running_loss += loss.item() \n",
    "        # validate every 100 iterations\n",
    "        if i > 0 and i % 100 == 0:\n",
    "            # validate\n",
    "            val_acc, val_loss = test_model(val_loader, model)\n",
    "            val_acc_epochs_RNNmul_500.append(val_acc)\n",
    "            \n",
    "            print('Epoch: [{}/{}], Step: [{}/{}], Validation Acc: {}'.format(\n",
    "                       epoch+1, num_epochs, i+1, len(train_loader), val_acc))\n",
    "    val_loss_RNNmul_500.append(val_loss)        \n",
    "    train_loss = running_loss/total_step\n",
    "    train_loss_RNNmul_500.append(train_loss)\n",
    "    print('Training Loss: {}, Validation Loss: {}'.format(train_loss, val_loss))\n",
    "    \n",
    "\n",
    "t1 = time.time()\n",
    "print ('Time elapse: {}'.format(t1-t0))"
   ]
  },
  {
   "cell_type": "code",
   "execution_count": 47,
   "metadata": {},
   "outputs": [
    {
     "data": {
      "text/plain": [
       "<matplotlib.text.Text at 0x7f8d32bdfc50>"
      ]
     },
     "execution_count": 47,
     "metadata": {},
     "output_type": "execute_result"
    },
    {
     "data": {
      "image/png": "[encoded data removed]",
      "text/plain": [
       "<matplotlib.figure.Figure at 0x7f8cf9920390>"
      ]
     },
     "metadata": {},
     "output_type": "display_data"
    }
   ],
   "source": [
    "train=plt.plot(train_loss_RNNmul_500, marker='o', label='train loss')\n",
    "val=plt.plot(val_loss_RNNmul_500, marker='o', label='val loss')\n",
    "\n",
    "\n",
    "plt.legend()\n",
    "plt.xticks([])\n",
    "plt.grid()\n",
    "plt.ylabel('loss')"
   ]
  },
  {
   "cell_type": "code",
   "execution_count": 225,
   "metadata": {},
   "outputs": [
    {
     "data": {
      "text/plain": [
       "<matplotlib.text.Text at 0x7feb45954cc0>"
      ]
     },
     "execution_count": 225,
     "metadata": {},
     "output_type": "execute_result"
    },
    {
     "data": {
      "image/png": "[encoded data removed]",
      "text/plain": [
       "<matplotlib.figure.Figure at 0x7feb4f64ac88>"
      ]
     },
     "metadata": {},
     "output_type": "display_data"
    }
   ],
   "source": [
    "\n",
    "concat=plt.plot(val_acc_epochs_biRNN_500, marker='o', label='concatenation')\n",
    "mul=plt.plot(val_acc_epochs_RNNmul_500, marker='o', label='multiplication')\n",
    "\n",
    "\n",
    "plt.legend()\n",
    "plt.xticks([])\n",
    "plt.grid()\n",
    "plt.ylabel('Validation Accuracy')\n"
   ]
  },
  {
   "cell_type": "code",
   "execution_count": 230,
   "metadata": {
    "collapsed": true,
    "scrolled": true
   },
   "outputs": [],
   "source": [
    "def three_correct_perdict(loader, model):\n",
    "    correct = 0\n",
    "    total = 0\n",
    "    model.eval()\n",
    "    for s1, s2, length_1, length_2, labels in loader:\n",
    "        i = 0\n",
    "        s1_batch, s2_batch, length_1_batch, length_2_batch, label_batch= s1, s2, length_1, length_2, labels\n",
    "        outputs = F.softmax(model(s1_batch, s2_batch, length_1_batch, length_2_batch), dim=1)\n",
    "        predicted = outputs.max(1, keepdim=True)[1]\n",
    "        correct = list(predicted.eq(labels.view_as(predicted)))\n",
    "        s1_indices_data = list(s1_batch)\n",
    "        s1_string = []\n",
    "    \n",
    "        for x in s1_indices_data:\n",
    "            sentence = []\n",
    "            for y in x:\n",
    "                y = int(y)\n",
    "                sentence.append(vocab[y])\n",
    "            s1_string.append(sentence)\n",
    "        s2_indices_data = list(s2_batch)\n",
    "        s2_string = []\n",
    "        for x in s2_indices_data:\n",
    "            sentence = []\n",
    "            for y in x:\n",
    "                y = int(y)\n",
    "                sentence.append(vocab[y])\n",
    "            s2_string.append(sentence)\n",
    "            \n",
    "        label_target = list(label_batch)\n",
    "        while correct[i] == 1:\n",
    "            print('s1: {}, s2: {},  Label: {}, Predicted: {}'.format(s1_string[i], s2_string[i] ,label_target[i],predicted[i]))\n",
    "            total += 1\n",
    "            if total == 3:\n",
    "                break\n",
    "            i += 1\n",
    "    return "
   ]
  },
  {
   "cell_type": "code",
   "execution_count": 231,
   "metadata": {},
   "outputs": [
    {
     "name": "stderr",
     "output_type": "stream",
     "text": [
      "/home/wq244/anaconda3/lib/python3.5/site-packages/ipykernel_launcher.py:39: UserWarning: invalid index of a 0-dim tensor. This will be an error in PyTorch 0.5. Use tensor.item() to convert a 0-dim tensor to a Python number\n"
     ]
    },
    {
     "name": "stdout",
     "output_type": "stream",
     "text": [
      "s1: ['A', 'young', 'girl', 'with', 'blue', 'and', 'pink', 'ribbons', 'in', 'her', '<unk>', ',', 'without', 'a', 'top', 'and', 'a', 'woman', 'with', 'a', 'white', 't-shirt', 'and', 'a', 'zebra', 'skirt', 'wading', 'in', 'a', 'public', 'water', 'fountain', '.', '<pad>', '<pad>', '<pad>', '<pad>', '<pad>', '<pad>', '<pad>', '<pad>', '<pad>', '<pad>', '<pad>', '<pad>', '<pad>', '<pad>', '<pad>', '<pad>', '<pad>', '<pad>', '<pad>', '<pad>', '<pad>', '<pad>', '<pad>', '<pad>', '<pad>', '<pad>', '<pad>', '<pad>', '<pad>', '<pad>', '<pad>', '<pad>', '<pad>', '<pad>', '<pad>', '<pad>', '<pad>', '<pad>', '<pad>', '<pad>', '<pad>', '<pad>', '<pad>', '<pad>', '<pad>', '<pad>', '<pad>', '<pad>', '<pad>'], s2: ['A', 'young', 'girl', '<unk>', 'a', 'sweater', '<pad>', '<pad>', '<pad>', '<pad>', '<pad>', '<pad>', '<pad>', '<pad>', '<pad>', '<pad>', '<pad>', '<pad>', '<pad>', '<pad>', '<pad>', '<pad>', '<pad>', '<pad>', '<pad>', '<pad>', '<pad>', '<pad>', '<pad>', '<pad>', '<pad>', '<pad>', '<pad>', '<pad>', '<pad>', '<pad>', '<pad>', '<pad>', '<pad>', '<pad>', '<pad>'],  Label: 0, Predicted: tensor([0], device='cuda:0')\n",
      "s1: ['A', 'woman', 'wearing', 'gray', 'pants', ',', 'a', 'white', 'blouse', 'and', 'a', 'black', 'vest', 'is', 'jumping', 'with', 'one', 'hand', 'in', 'the', 'air', 'as', 'she', 'goes', 'through', 'an', 'indoor', 'stadium', '.', '<pad>', '<pad>', '<pad>', '<pad>', '<pad>', '<pad>', '<pad>', '<pad>', '<pad>', '<pad>', '<pad>', '<pad>', '<pad>', '<pad>', '<pad>', '<pad>', '<pad>', '<pad>', '<pad>', '<pad>', '<pad>', '<pad>', '<pad>', '<pad>', '<pad>', '<pad>', '<pad>', '<pad>', '<pad>', '<pad>', '<pad>', '<pad>', '<pad>', '<pad>', '<pad>', '<pad>', '<pad>', '<pad>', '<pad>', '<pad>', '<pad>', '<pad>', '<pad>', '<pad>', '<pad>', '<pad>', '<pad>', '<pad>', '<pad>', '<pad>', '<pad>', '<pad>', '<pad>'], s2: ['The', 'female', 'stadium', 'worker', 'jumps', 'for', 'joy', 'as', 'she', 'leaves', 'her', 'long', 'tiring', 'shift', '.', '<pad>', '<pad>', '<pad>', '<pad>', '<pad>', '<pad>', '<pad>', '<pad>', '<pad>', '<pad>', '<pad>', '<pad>', '<pad>', '<pad>', '<pad>', '<pad>', '<pad>', '<pad>', '<pad>', '<pad>', '<pad>', '<pad>', '<pad>', '<pad>', '<pad>', '<pad>'],  Label: 2, Predicted: tensor([2], device='cuda:0')\n",
      "s1: ['A', 'young', 'woman', 'with', 'red', 'hear', 'and', 'wearing', 'a', 'bikini', 'top', 'is', 'standing', 'with', 'her', 'hands', 'together', 'above', 'her', 'head', ',', 'while', 'three', 'other', 'people', 'stand', 'directly', 'behind', 'her', 'with', 'their', 'arms', 'in', 'different', 'positions', ',', 'making', 'the', 'woman', 'in', 'front', 'look', 'as', 'if', 'she', 'has', 'many', 'arms', '.', '<pad>', '<pad>', '<pad>', '<pad>', '<pad>', '<pad>', '<pad>', '<pad>', '<pad>', '<pad>', '<pad>', '<pad>', '<pad>', '<pad>', '<pad>', '<pad>', '<pad>', '<pad>', '<pad>', '<pad>', '<pad>', '<pad>', '<pad>', '<pad>', '<pad>', '<pad>', '<pad>', '<pad>', '<pad>', '<pad>', '<pad>', '<pad>', '<pad>'], s2: ['Some', 'people', 'are', 'holding', 'hands', 'and', 'walking', 'away', '.', '<pad>', '<pad>', '<pad>', '<pad>', '<pad>', '<pad>', '<pad>', '<pad>', '<pad>', '<pad>', '<pad>', '<pad>', '<pad>', '<pad>', '<pad>', '<pad>', '<pad>', '<pad>', '<pad>', '<pad>', '<pad>', '<pad>', '<pad>', '<pad>', '<pad>', '<pad>', '<pad>', '<pad>', '<pad>', '<pad>', '<pad>', '<pad>'],  Label: 0, Predicted: tensor([0], device='cuda:0')\n",
      "s1: ['Three', 'women', 'on', 'a', 'stage', ',', 'one', 'wearing', 'red', 'shoes', ',', 'black', 'pants', ',', 'and', 'a', 'gray', 'shirt', 'is', 'sitting', 'on', 'a', 'prop', ',', 'another', 'is', 'sitting', 'on', 'the', 'floor', ',', 'and', 'the', 'third', 'wearing', 'a', 'black', 'shirt', 'and', 'pants', 'is', 'standing', ',', 'as', 'a', 'gentleman', 'in', 'the', 'back', 'tunes', 'an', 'instrument', '.', '<pad>', '<pad>', '<pad>', '<pad>', '<pad>', '<pad>', '<pad>', '<pad>', '<pad>', '<pad>', '<pad>', '<pad>', '<pad>', '<pad>', '<pad>', '<pad>', '<pad>', '<pad>', '<pad>', '<pad>', '<pad>', '<pad>', '<pad>', '<pad>', '<pad>', '<pad>', '<pad>', '<pad>', '<pad>'], s2: ['There', 'are', 'two', 'women', 'standing', 'on', 'the', 'stage', '<pad>', '<pad>', '<pad>', '<pad>', '<pad>', '<pad>', '<pad>', '<pad>', '<pad>', '<pad>', '<pad>', '<pad>', '<pad>', '<pad>', '<pad>', '<pad>', '<pad>', '<pad>', '<pad>', '<pad>', '<pad>', '<pad>', '<pad>', '<pad>', '<pad>', '<pad>', '<pad>', '<pad>', '<pad>', '<pad>', '<pad>', '<pad>', '<pad>'],  Label: 0, Predicted: tensor([0], device='cuda:0')\n",
      "s1: ['People', '<unk>', 'in', 'the', 'foreground', 'and', 'background', ',', 'two', 'of', 'them', 'are', 'walking', 'towards', 'those', 'in', 'the', 'background', 'that', 'are', 'positioned', 'nearby', 'of', 'a', 'building', 'that', 'is', 'overshadowed', 'by', 'a', 'large', 'number', 'of', 'trees', ',', 'while', 'the', 'two', 'in', 'the', 'foreground', 'are', 'tending', 'to', 'a', 'horse', 'drawn', 'carriage', '.', '<pad>', '<pad>', '<pad>', '<pad>', '<pad>', '<pad>', '<pad>', '<pad>', '<pad>', '<pad>', '<pad>', '<pad>', '<pad>', '<pad>', '<pad>', '<pad>', '<pad>', '<pad>', '<pad>', '<pad>', '<pad>', '<pad>', '<pad>', '<pad>', '<pad>', '<pad>', '<pad>', '<pad>', '<pad>', '<pad>', '<pad>', '<pad>', '<pad>'], s2: ['Some', 'Amish', 'people', 'are', 'fixing', 'their', 'carriage', 'while', 'other', 'people', 'walk', 'or', 'stand', 'nearby', '.', '<pad>', '<pad>', '<pad>', '<pad>', '<pad>', '<pad>', '<pad>', '<pad>', '<pad>', '<pad>', '<pad>', '<pad>', '<pad>', '<pad>', '<pad>', '<pad>', '<pad>', '<pad>', '<pad>', '<pad>', '<pad>', '<pad>', '<pad>', '<pad>', '<pad>', '<pad>'],  Label: 2, Predicted: tensor([2], device='cuda:0')\n",
      "s1: ['There', 'are', 'three', 'men', 'in', 'this', 'picture', ',', 'two', 'are', 'on', 'motorbikes', ',', 'one', 'of', 'the', 'men', 'has', 'a', 'large', 'piece', 'of', 'furniture', 'on', 'the', 'back', 'of', 'his', 'bike', ',', 'the', 'other', 'is', 'about', 'to', 'be', 'handed', 'a', 'piece', 'of', 'paper', 'by', 'a', 'man', 'in', 'a', 'white', 'shirt', '.', '<pad>', '<pad>', '<pad>', '<pad>', '<pad>', '<pad>', '<pad>', '<pad>', '<pad>', '<pad>', '<pad>', '<pad>', '<pad>', '<pad>', '<pad>', '<pad>', '<pad>', '<pad>', '<pad>', '<pad>', '<pad>', '<pad>', '<pad>', '<pad>', '<pad>', '<pad>', '<pad>', '<pad>', '<pad>', '<pad>', '<pad>', '<pad>', '<pad>'], s2: ['A', 'man', 'is', 'receiving', 'a', 'piece', 'of', 'paper', '.', '<pad>', '<pad>', '<pad>', '<pad>', '<pad>', '<pad>', '<pad>', '<pad>', '<pad>', '<pad>', '<pad>', '<pad>', '<pad>', '<pad>', '<pad>', '<pad>', '<pad>', '<pad>', '<pad>', '<pad>', '<pad>', '<pad>', '<pad>', '<pad>', '<pad>', '<pad>', '<pad>', '<pad>', '<pad>', '<pad>', '<pad>', '<pad>'],  Label: 1, Predicted: tensor([1], device='cuda:0')\n",
      "s1: ['A', '<unk>', 'woman', 'in', 'a', 'blue', 'top', 'and', 'black', '<unk>', 'looks', 'off', 'to', 'the', 'side', 'of', 'the', 'camera', 'with', 'a', 'drink', 'in', 'one', 'hand', 'and', 'a', 'amused', 'look', 'upon', 'her', 'face', ',', 'while', 'a', 'man', 'sits', 'next', 'to', 'her', ',', 'looking', '<unk>', ',', 'drink', 'in', 'one', 'hand', ',', 'straw', 'in', 'the', 'other', '.', '<pad>', '<pad>', '<pad>', '<pad>', '<pad>', '<pad>', '<pad>', '<pad>', '<pad>', '<pad>', '<pad>', '<pad>', '<pad>', '<pad>', '<pad>', '<pad>', '<pad>', '<pad>', '<pad>', '<pad>', '<pad>', '<pad>', '<pad>', '<pad>', '<pad>', '<pad>', '<pad>', '<pad>', '<pad>'], s2: ['A', 'man', 'and', 'woman', 'are', 'having', 'drinks', 'in', 'a', 'bar', '.', '<pad>', '<pad>', '<pad>', '<pad>', '<pad>', '<pad>', '<pad>', '<pad>', '<pad>', '<pad>', '<pad>', '<pad>', '<pad>', '<pad>', '<pad>', '<pad>', '<pad>', '<pad>', '<pad>', '<pad>', '<pad>', '<pad>', '<pad>', '<pad>', '<pad>', '<pad>', '<pad>', '<pad>', '<pad>', '<pad>'],  Label: 2, Predicted: tensor([2], device='cuda:0')\n"
     ]
    }
   ],
   "source": [
    "three_correct_perdict(val_loader, model)"
   ]
  },
  {
   "cell_type": "code",
   "execution_count": 232,
   "metadata": {
    "collapsed": true
   },
   "outputs": [],
   "source": [
    "def three_incorrect_perdict(loader, model):\n",
    "    correct = 0\n",
    "    total = 0\n",
    "    model.eval()\n",
    "    for s1, s2, length_1, length_2, labels in loader:\n",
    "        i = 0\n",
    "        s1_batch, s2_batch, length_1_batch, length_2_batch, label_batch= s1, s2, length_1, length_2, labels\n",
    "        outputs = F.softmax(model(s1_batch, s2_batch, length_1_batch, length_2_batch), dim=1)\n",
    "        predicted = outputs.max(1, keepdim=True)[1]\n",
    "        correct = list(predicted.eq(labels.view_as(predicted)))\n",
    "        s1_indices_data = list(s1_batch)\n",
    "        s1_string = []\n",
    "    \n",
    "        for x in s1_indices_data:\n",
    "            sentence = []\n",
    "            for y in x:\n",
    "                y = int(y)\n",
    "                sentence.append(vocab[y])\n",
    "            s1_string.append(sentence)\n",
    "        s2_indices_data = list(s2_batch)\n",
    "        s2_string = []\n",
    "        for x in s2_indices_data:\n",
    "            sentence = []\n",
    "            for y in x:\n",
    "                y = int(y)\n",
    "                sentence.append(vocab[y])\n",
    "            s2_string.append(sentence)\n",
    "            \n",
    "        label_target = list(label_batch)\n",
    "        while correct[i] != 1:\n",
    "            print('s1: {}, s2: {},  Label: {}, Predicted: {}'.format(s1_string[i], s2_string[i] ,label_target[i],predicted[i]))\n",
    "            total += 1\n",
    "            if total == 3:\n",
    "                break\n",
    "            i += 1\n",
    "    return "
   ]
  },
  {
   "cell_type": "code",
   "execution_count": 233,
   "metadata": {},
   "outputs": [
    {
     "name": "stderr",
     "output_type": "stream",
     "text": [
      "/home/wq244/anaconda3/lib/python3.5/site-packages/ipykernel_launcher.py:39: UserWarning: invalid index of a 0-dim tensor. This will be an error in PyTorch 0.5. Use tensor.item() to convert a 0-dim tensor to a Python number\n"
     ]
    },
    {
     "name": "stdout",
     "output_type": "stream",
     "text": [
      "s1: ['A', 'man', 'in', 'a', 'brown', 'jacket', ',', 'white', 'shirt', ',', 'and', 'dark', '<unk>', 'is', 'holding', 'a', 'book', 'with', 'his', 'finger', 'on', 'the', 'page', 'while', 'sitting', 'on', 'a', 'wooden', 'floor', ',', 'and', 'leaning', 'against', 'a', 'yellow', 'wall', 'with', 'a', 'door', 'on', 'one', 'side', 'and', 'cloths', 'on', '<unk>', 'on', 'the', 'other', 'side', '.', '<pad>', '<pad>', '<pad>', '<pad>', '<pad>', '<pad>', '<pad>', '<pad>', '<pad>', '<pad>', '<pad>', '<pad>', '<pad>', '<pad>', '<pad>', '<pad>', '<pad>', '<pad>', '<pad>', '<pad>', '<pad>', '<pad>', '<pad>', '<pad>', '<pad>', '<pad>', '<pad>', '<pad>', '<pad>', '<pad>', '<pad>'], s2: ['A', 'man', 'sits', 'on', 'a', 'wooden', 'floor', 'building', 'a', 'model', 'ship', '.', '<pad>', '<pad>', '<pad>', '<pad>', '<pad>', '<pad>', '<pad>', '<pad>', '<pad>', '<pad>', '<pad>', '<pad>', '<pad>', '<pad>', '<pad>', '<pad>', '<pad>', '<pad>', '<pad>', '<pad>', '<pad>', '<pad>', '<pad>', '<pad>', '<pad>', '<pad>', '<pad>', '<pad>', '<pad>'],  Label: 0, Predicted: tensor([2], device='cuda:0')\n",
      "s1: ['There', 'are', 'four', 'US', 'military', 'soldiers', 'in', 'this', 'photo', ',', 'only', 'two', 'have', 'their', 'faces', 'in', 'the', 'picture', ',', 'there', 'is', 'a', 'pack', 'of', 'cigarettes', 'by', 'one', 'of', 'their', 'boots', ',', 'they', 'appear', 'to', 'be', 'fixing', 'a', 'motorcycle', '.', '<pad>', '<pad>', '<pad>', '<pad>', '<pad>', '<pad>', '<pad>', '<pad>', '<pad>', '<pad>', '<pad>', '<pad>', '<pad>', '<pad>', '<pad>', '<pad>', '<pad>', '<pad>', '<pad>', '<pad>', '<pad>', '<pad>', '<pad>', '<pad>', '<pad>', '<pad>', '<pad>', '<pad>', '<pad>', '<pad>', '<pad>', '<pad>', '<pad>', '<pad>', '<pad>', '<pad>', '<pad>', '<pad>', '<pad>', '<pad>', '<pad>', '<pad>', '<pad>'], s2: ['A', '<unk>', 'being', 'fixed', 'by', 'a', 'group', 'of', 'men', '.', '<pad>', '<pad>', '<pad>', '<pad>', '<pad>', '<pad>', '<pad>', '<pad>', '<pad>', '<pad>', '<pad>', '<pad>', '<pad>', '<pad>', '<pad>', '<pad>', '<pad>', '<pad>', '<pad>', '<pad>', '<pad>', '<pad>', '<pad>', '<pad>', '<pad>', '<pad>', '<pad>', '<pad>', '<pad>', '<pad>', '<pad>'],  Label: 1, Predicted: tensor([2], device='cuda:0')\n",
      "s1: ['A', 'man', 'in', 'a', 'dark', 'suit', 'talks', 'with', 'a', 'middle-aged', 'man', 'and', 'woman', 'on', 'a', 'stage', 'in', 'front', 'of', 'a', 'large', 'logo', 'of', 'the', 'letter', '<unk>', 'D', '<unk>', 'with', 'the', 'numeral', 'five', 'within', 'it', '.', '<pad>', '<pad>', '<pad>', '<pad>', '<pad>', '<pad>', '<pad>', '<pad>', '<pad>', '<pad>', '<pad>', '<pad>', '<pad>', '<pad>', '<pad>', '<pad>', '<pad>', '<pad>', '<pad>', '<pad>', '<pad>', '<pad>', '<pad>', '<pad>', '<pad>', '<pad>', '<pad>', '<pad>', '<pad>', '<pad>', '<pad>', '<pad>', '<pad>', '<pad>', '<pad>', '<pad>', '<pad>', '<pad>', '<pad>', '<pad>', '<pad>', '<pad>', '<pad>', '<pad>', '<pad>', '<pad>', '<pad>'], s2: ['A', 'couple', 'of', 'people', 'are', 'presenting', 'at', 'a', 'conference', '.', '<pad>', '<pad>', '<pad>', '<pad>', '<pad>', '<pad>', '<pad>', '<pad>', '<pad>', '<pad>', '<pad>', '<pad>', '<pad>', '<pad>', '<pad>', '<pad>', '<pad>', '<pad>', '<pad>', '<pad>', '<pad>', '<pad>', '<pad>', '<pad>', '<pad>', '<pad>', '<pad>', '<pad>', '<pad>', '<pad>', '<pad>'],  Label: 2, Predicted: tensor([0], device='cuda:0')\n",
      "s1: ['Man', 'in', 'gray', '<unk>', 'jacket', 'and', 'red', 'shirt', 'pets', 'a', 'brown', 'dog', 'and', 'holds', 'a', 'young', 'girl', 'in', 'pink', 'shirt', ',', 'while', 'a', 'woman', 'next', 'to', 'him', 'holds', 'an', 'infant', 'boy', 'and', 'a', 'gray', 'dog', '.', '<pad>', '<pad>', '<pad>', '<pad>', '<pad>', '<pad>', '<pad>', '<pad>', '<pad>', '<pad>', '<pad>', '<pad>', '<pad>', '<pad>', '<pad>', '<pad>', '<pad>', '<pad>', '<pad>', '<pad>', '<pad>', '<pad>', '<pad>', '<pad>', '<pad>', '<pad>', '<pad>', '<pad>', '<pad>', '<pad>', '<pad>', '<pad>', '<pad>', '<pad>', '<pad>', '<pad>', '<pad>', '<pad>', '<pad>', '<pad>', '<pad>', '<pad>', '<pad>', '<pad>', '<pad>', '<pad>'], s2: ['A', 'man', 'holds', 'a', 'small', 'child', 'while', '<unk>', 'his', 'dog', 'with', 'his', 'girlfriend', 'is', 'holding', 'her', 'son', 'and', 'her', 'dog', '.', '<pad>', '<pad>', '<pad>', '<pad>', '<pad>', '<pad>', '<pad>', '<pad>', '<pad>', '<pad>', '<pad>', '<pad>', '<pad>', '<pad>', '<pad>', '<pad>', '<pad>', '<pad>', '<pad>', '<pad>'],  Label: 1, Predicted: tensor([2], device='cuda:0')\n",
      "s1: ['Two', 'men', 'dressed', 'in', 'identical', 'white', 'jackets', 'with', 'green', 'numbers', 'and', 'logo', 'are', 'studying', 'something', 'on', 'a', 'cellphone', 'with', 'great', 'interest', ',', 'while', 'other', 'men', ',', 'identically', 'dressed', 'and', 'standing', 'in', 'a', 'group', 'with', 'these', 'two', ',', 'are', 'interested', 'in', 'something', 'to', 'their', 'right', '.', '<pad>', '<pad>', '<pad>', '<pad>', '<pad>', '<pad>', '<pad>', '<pad>', '<pad>', '<pad>', '<pad>', '<pad>', '<pad>', '<pad>', '<pad>', '<pad>', '<pad>', '<pad>', '<pad>', '<pad>', '<pad>', '<pad>', '<pad>', '<pad>', '<pad>', '<pad>', '<pad>', '<pad>', '<pad>', '<pad>', '<pad>', '<pad>', '<pad>', '<pad>', '<pad>', '<pad>', '<pad>'], s2: ['Three', 'men', 'in', 'matching', 'jackets', 'are', 'standing', 'together', ',', 'one', 'looking', 'at', 'a', 'nearby', 'person', ',', 'the', 'other', 'two', 'looking', 'at', 'a', 'phone', '.', '<pad>', '<pad>', '<pad>', '<pad>', '<pad>', '<pad>', '<pad>', '<pad>', '<pad>', '<pad>', '<pad>', '<pad>', '<pad>', '<pad>', '<pad>', '<pad>', '<pad>'],  Label: 2, Predicted: tensor([1], device='cuda:0')\n",
      "s1: ['A', 'young', 'couple', 'sit', 'on', 'the', 'couch', ',', 'the', 'woman', 'wearing', 'a', 'blue', 'work', 'shirt', ',', 'her', 'eyes', 'half', 'closed', ',', 'while', 'the', 'man', 'sits', 'with', 'his', 'arm', 'around', 'her', ',', 'looking', 'towards', 'the', 'camera', ',', 'in', 'a', 'gray', 'shirt', '.', '<pad>', '<pad>', '<pad>', '<pad>', '<pad>', '<pad>', '<pad>', '<pad>', '<pad>', '<pad>', '<pad>', '<pad>', '<pad>', '<pad>', '<pad>', '<pad>', '<pad>', '<pad>', '<pad>', '<pad>', '<pad>', '<pad>', '<pad>', '<pad>', '<pad>', '<pad>', '<pad>', '<pad>', '<pad>', '<pad>', '<pad>', '<pad>', '<pad>', '<pad>', '<pad>', '<pad>', '<pad>', '<pad>', '<pad>', '<pad>', '<pad>'], s2: ['Two', 'brothers', 'sit', 'on', 'the', 'couch', '<pad>', '<pad>', '<pad>', '<pad>', '<pad>', '<pad>', '<pad>', '<pad>', '<pad>', '<pad>', '<pad>', '<pad>', '<pad>', '<pad>', '<pad>', '<pad>', '<pad>', '<pad>', '<pad>', '<pad>', '<pad>', '<pad>', '<pad>', '<pad>', '<pad>', '<pad>', '<pad>', '<pad>', '<pad>', '<pad>', '<pad>', '<pad>', '<pad>', '<pad>', '<pad>'],  Label: 0, Predicted: tensor([2], device='cuda:0')\n",
      "s1: ['A', 'young', 'boy', 'in', 'a', 'cowboy', 'hat', 'and', 'holding', 'some', 'food', 'sits', 'in', 'the', 'back', 'of', 'a', 'small', 'vehicle', 'while', 'an', 'adult', 'leans', 'over', 'in', 'the', 'background', 'next', 'to', 'a', 'large', 'blue', 'device', 'displaying', 'the', 'words', '99', '%', 'Angel', '.', '<pad>', '<pad>', '<pad>', '<pad>', '<pad>', '<pad>', '<pad>', '<pad>', '<pad>', '<pad>', '<pad>', '<pad>', '<pad>', '<pad>', '<pad>', '<pad>', '<pad>', '<pad>', '<pad>', '<pad>', '<pad>', '<pad>', '<pad>', '<pad>', '<pad>', '<pad>', '<pad>', '<pad>', '<pad>', '<pad>', '<pad>', '<pad>', '<pad>', '<pad>', '<pad>', '<pad>', '<pad>', '<pad>', '<pad>', '<pad>', '<pad>', '<pad>'], s2: ['A', 'young', 'boy', 'in', 'a', 'cowboy', 'hat', 'is', 'holding', 'a', 'hamburger', '.', '<pad>', '<pad>', '<pad>', '<pad>', '<pad>', '<pad>', '<pad>', '<pad>', '<pad>', '<pad>', '<pad>', '<pad>', '<pad>', '<pad>', '<pad>', '<pad>', '<pad>', '<pad>', '<pad>', '<pad>', '<pad>', '<pad>', '<pad>', '<pad>', '<pad>', '<pad>', '<pad>', '<pad>', '<pad>'],  Label: 2, Predicted: tensor([0], device='cuda:0')\n"
     ]
    }
   ],
   "source": [
    "three_incorrect_perdict(val_loader, model)"
   ]
  },
  {
   "cell_type": "code",
   "execution_count": 217,
   "metadata": {},
   "outputs": [
    {
     "name": "stderr",
     "output_type": "stream",
     "text": [
      "/home/wq244/anaconda3/lib/python3.5/site-packages/ipykernel_launcher.py:39: UserWarning: invalid index of a 0-dim tensor. This will be an error in PyTorch 0.5. Use tensor.item() to convert a 0-dim tensor to a Python number\n"
     ]
    },
    {
     "name": "stdout",
     "output_type": "stream",
     "text": [
      "fiction:45.12562814070352, government:43.20866141732284, slate:41.417165668662676, telephone:43.98009950248756, travel:43.58452138492871\n"
     ]
    }
   ],
   "source": [
    "# validation on MNLI task\n",
    "RNN_1_val_acc = test_model(val_loader_1, model)\n",
    "RNN_2_val_acc = test_model(val_loader_2, model)\n",
    "RNN_3_val_acc = test_model(val_loader_3, model)\n",
    "RNN_4_val_acc = test_model(val_loader_4, model)\n",
    "RNN_5_val_acc = test_model(val_loader_5, model)\n",
    "print('fiction:{}, government:{}, slate:{}, telephone:{}, travel:{}'.format(RNN_1_val_acc, RNN_2_val_acc, RNN_3_val_acc, RNN_4_val_acc, RNN_5_val_acc))"
   ]
  },
  {
   "cell_type": "markdown",
   "metadata": {},
   "source": [
    "## CNN Model"
   ]
  },
  {
   "cell_type": "markdown",
   "metadata": {},
   "source": [
    "### Model V"
   ]
  },
  {
   "cell_type": "code",
   "execution_count": 19,
   "metadata": {
    "collapsed": true
   },
   "outputs": [],
   "source": [
    "class CNN(nn.Module):\n",
    "    def __init__(self, hidden_size, num_layers, num_classes, vocab_size):\n",
    "\n",
    "        super(CNN, self).__init__()\n",
    "\n",
    "        self.num_layers, self.hidden_size = num_layers, hidden_size\n",
    "        # self.embedding = nn.Embedding(vocab_size, emb_size, padding_idx=PAD_IDX)\n",
    "    \n",
    "        # kernal size serve as the no. of works to bag together\n",
    "        self.conv1 = nn.Conv1d(300, hidden_size, kernel_size=3, padding=1)\n",
    "        self.conv2 = nn.Conv1d(hidden_size, hidden_size, kernel_size=3, padding=1)\n",
    "        self.pool = torch.nn.MaxPool1d(kernel_size=20, stride=1)\n",
    "        self.linear1 = nn.Linear(hidden_size*2, hidden_size*2)\n",
    "        self.linear2 = nn.Linear(hidden_size*2, num_classes)\n",
    "\n",
    "    def forward(self, s1, s2, s1_lengths, s2_lengths):\n",
    "        batch_size_1, seq_len_1 = s1.size()\n",
    "        batch_size_2, seq_len_2 = s2.size()\n",
    "\n",
    "        s1_embed = np.zeros((batch_size_1, seq_len_1, 300))\n",
    "        for row, i in enumerate(s1):\n",
    "            for col, j in enumerate(i):\n",
    "                s1_embed[row][col]=np.asarray(id2emb[j])\n",
    "        s1_embed = torch.FloatTensor(s1_embed).to(device)\n",
    "        # embed = self.embedding(x)\n",
    "        s1_hidden = self.conv1(s1_embed.transpose(1,2)).transpose(1,2)\n",
    "        # transfer the 3d tensor to 2d tensor\n",
    "        s1_hidden = F.relu(s1_hidden.contiguous().view(-1, s1_hidden.size(-1)).to(device)).view(batch_size_1, seq_len_1, s1_hidden.size(-1))\n",
    "\n",
    "        s1_hidden = self.conv2(s1_hidden.transpose(1,2).to(device)).transpose(1,2)\n",
    "        s1_hidden = F.relu(s1_hidden.contiguous().view(-1, s1_hidden.size(-1)).to(device)).view(batch_size_1, seq_len_1, s1_hidden.size(-1))\n",
    "        #s1_hidden = torch.sum(s1_hidden, dim=1)\n",
    "        \n",
    "        s1_cnn_out = self.pool(s1_hidden.transpose(1,2).to(device))\n",
    "        s1_cnn_out = torch.sum(s1_cnn_out.transpose(1,2), dim=1).to(device)\n",
    "        \n",
    "        s2_embed = np.zeros((batch_size_2, seq_len_2, 300))\n",
    "        for row, i in enumerate(s2):\n",
    "            for col, j in enumerate(i):\n",
    "                s2_embed[row][col]=np.asarray(id2emb[j[0]])\n",
    "        s2_embed = torch.FloatTensor(s2_embed).to(device)\n",
    "        s2_hidden = self.conv1(s2_embed.transpose(1,2)).transpose(1,2)\n",
    "        # transfer the 3d tensor to 2d tensor\n",
    "        s2_hidden = F.relu(s2_hidden.contiguous().view(-1, s2_hidden.size(-1)).to(device)).view(batch_size_2, seq_len_2, s2_hidden.size(-1))\n",
    "\n",
    "        s2_hidden = self.conv2(s2_hidden.transpose(1,2).to(device)).transpose(1,2)\n",
    "        s2_hidden = F.relu(s2_hidden.contiguous().view(-1, s2_hidden.size(-1)).to(device)).view(batch_size_2, seq_len_2, s2_hidden.size(-1))\n",
    "        \n",
    "        s2_cnn_out = self.pool(s2_hidden.transpose(1,2).to(device))\n",
    "        s2_cnn_out = torch.sum(s2_cnn_out.transpose(1,2), dim=1).to(device)\n",
    "        \n",
    "        cnn_out = torch.cat((s1_cnn_out, s2_cnn_out), 1)\n",
    "        out = self.linear1(cnn_out.to(device))\n",
    "        logits = self.linear2(out.to(device))\n",
    "        return logits"
   ]
  },
  {
   "cell_type": "code",
   "execution_count": 21,
   "metadata": {},
   "outputs": [
    {
     "name": "stderr",
     "output_type": "stream",
     "text": [
      "/home/wq244/anaconda3/lib/python3.5/site-packages/ipykernel_launcher.py:40: UserWarning: invalid index of a 0-dim tensor. This will be an error in PyTorch 0.5. Use tensor.item() to convert a 0-dim tensor to a Python number\n"
     ]
    },
    {
     "name": "stdout",
     "output_type": "stream",
     "text": [
      "Epoch: [1/5], Step: [101/782], Validation Acc: 36.2\n",
      "Epoch: [1/5], Step: [201/782], Validation Acc: 47.3\n",
      "Epoch: [1/5], Step: [301/782], Validation Acc: 55.8\n",
      "Epoch: [1/5], Step: [401/782], Validation Acc: 56.2\n",
      "Epoch: [1/5], Step: [501/782], Validation Acc: 57.5\n",
      "Epoch: [1/5], Step: [601/782], Validation Acc: 58.0\n",
      "Epoch: [1/5], Step: [701/782], Validation Acc: 57.6\n",
      "Epoch: [2/5], Step: [101/782], Validation Acc: 60.5\n",
      "Epoch: [2/5], Step: [201/782], Validation Acc: 59.3\n",
      "Epoch: [2/5], Step: [301/782], Validation Acc: 60.5\n",
      "Epoch: [2/5], Step: [401/782], Validation Acc: 59.3\n",
      "Epoch: [2/5], Step: [501/782], Validation Acc: 60.1\n",
      "Epoch: [2/5], Step: [601/782], Validation Acc: 60.3\n",
      "Epoch: [2/5], Step: [701/782], Validation Acc: 60.8\n",
      "Epoch: [3/5], Step: [101/782], Validation Acc: 61.5\n",
      "Epoch: [3/5], Step: [201/782], Validation Acc: 60.7\n",
      "Epoch: [3/5], Step: [301/782], Validation Acc: 61.5\n",
      "Epoch: [3/5], Step: [401/782], Validation Acc: 61.4\n",
      "Epoch: [3/5], Step: [501/782], Validation Acc: 60.3\n",
      "Epoch: [3/5], Step: [601/782], Validation Acc: 62.0\n",
      "Epoch: [3/5], Step: [701/782], Validation Acc: 62.3\n",
      "Epoch: [4/5], Step: [101/782], Validation Acc: 61.5\n",
      "Epoch: [4/5], Step: [201/782], Validation Acc: 61.4\n",
      "Epoch: [4/5], Step: [301/782], Validation Acc: 60.9\n",
      "Epoch: [4/5], Step: [401/782], Validation Acc: 62.8\n",
      "Epoch: [4/5], Step: [501/782], Validation Acc: 62.4\n",
      "Epoch: [4/5], Step: [601/782], Validation Acc: 62.9\n",
      "Epoch: [4/5], Step: [701/782], Validation Acc: 63.0\n",
      "Epoch: [5/5], Step: [101/782], Validation Acc: 61.5\n",
      "Epoch: [5/5], Step: [201/782], Validation Acc: 62.3\n",
      "Epoch: [5/5], Step: [301/782], Validation Acc: 61.6\n",
      "Epoch: [5/5], Step: [401/782], Validation Acc: 61.9\n",
      "Epoch: [5/5], Step: [501/782], Validation Acc: 63.4\n",
      "Epoch: [5/5], Step: [601/782], Validation Acc: 64.5\n",
      "Epoch: [5/5], Step: [701/782], Validation Acc: 62.6\n",
      "Time elapse: 431.0376048088074\n"
     ]
    }
   ],
   "source": [
    "t0 = time.time()\n",
    "val_acc_epochs_CNN_100 = []\n",
    "\n",
    "def test_model(loader, model):\n",
    "    \"\"\"\n",
    "    Help function that tests the model's performance on a dataset\n",
    "    @param: loader - data loader for the dataset to test against\n",
    "    \"\"\"\n",
    "    correct = 0\n",
    "    total = 0\n",
    "    model.eval()\n",
    "    for s1, s2, length_1, length_2, labels in loader:\n",
    "        s1_batch, s2_batch, length_1_batch, length_2_batch, label_batch= s1, s2, length_1, length_2, labels\n",
    "        outputs = F.softmax(model(s1_batch, s2_batch, length_1_batch, length_2_batch), dim=1)\n",
    "        predicted = outputs.max(1, keepdim=True)[1]\n",
    "\n",
    "        total += labels.size(0)\n",
    "        correct += predicted.eq(labels.view_as(predicted)).sum().item()\n",
    "    return (100 * correct / total)\n",
    "\n",
    "\n",
    "model = CNN(hidden_size=100, num_layers=2, num_classes=3, vocab_size=len(vocab))\n",
    "model.to(device)\n",
    "num_p = sum((p.numel() for p in model.parameters() if p.requires_grad))\n",
    "print('number of parameters:{}'.format(num_p))\n",
    "\n",
    "learning_rate = 3e-4\n",
    "num_epochs = 5\n",
    "\n",
    "# Criterion and Optimizer\n",
    "criterion = torch.nn.CrossEntropyLoss()\n",
    "optimizer = torch.optim.Adam(model.parameters(), lr=learning_rate)\n",
    "\n",
    "# Train the model\n",
    "total_step = len(train_loader)\n",
    "\n",
    "for epoch in range(num_epochs):\n",
    "    for i, (s1, s2, length_1, length_2, labels) in enumerate(train_loader):\n",
    "        model.train()\n",
    "        optimizer.zero_grad()\n",
    "        # Forward pass\n",
    "        outputs = model(s1, s2, length_1, length_2)\n",
    "        loss = criterion(outputs, labels)\n",
    "        \n",
    "\n",
    "        # Backward and optimize\n",
    "        loss.backward()\n",
    "        optimizer.step()\n",
    "        # validate every 100 iterations\n",
    "        if i > 0 and i % 100 == 0:\n",
    "            # validate\n",
    "            val_acc = test_model(val_loader, model)\n",
    "            val_acc_epochs_CNN_100.append(val_acc)\n",
    "            print('Epoch: [{}/{}], Step: [{}/{}], Validation Acc: {}'.format(\n",
    "                       epoch+1, num_epochs, i+1, len(train_loader), val_acc))\n",
    "\n",
    "t1 = time.time()\n",
    "print ('Time elapse: {}'.format(t1-t0))"
   ]
  },
  {
   "cell_type": "markdown",
   "metadata": {},
   "source": [
    "### Model VI"
   ]
  },
  {
   "cell_type": "code",
   "execution_count": 22,
   "metadata": {},
   "outputs": [
    {
     "name": "stderr",
     "output_type": "stream",
     "text": [
      "/home/wq244/anaconda3/lib/python3.5/site-packages/ipykernel_launcher.py:40: UserWarning: invalid index of a 0-dim tensor. This will be an error in PyTorch 0.5. Use tensor.item() to convert a 0-dim tensor to a Python number\n"
     ]
    },
    {
     "name": "stdout",
     "output_type": "stream",
     "text": [
      "Epoch: [1/5], Step: [101/782], Validation Acc: 44.0\n",
      "Epoch: [1/5], Step: [201/782], Validation Acc: 52.5\n",
      "Epoch: [1/5], Step: [301/782], Validation Acc: 55.2\n",
      "Epoch: [1/5], Step: [401/782], Validation Acc: 56.4\n",
      "Epoch: [1/5], Step: [501/782], Validation Acc: 58.4\n",
      "Epoch: [1/5], Step: [601/782], Validation Acc: 59.3\n",
      "Epoch: [1/5], Step: [701/782], Validation Acc: 59.7\n",
      "Epoch: [2/5], Step: [101/782], Validation Acc: 61.5\n",
      "Epoch: [2/5], Step: [201/782], Validation Acc: 62.2\n",
      "Epoch: [2/5], Step: [301/782], Validation Acc: 61.0\n",
      "Epoch: [2/5], Step: [401/782], Validation Acc: 61.8\n",
      "Epoch: [2/5], Step: [501/782], Validation Acc: 60.1\n",
      "Epoch: [2/5], Step: [601/782], Validation Acc: 62.4\n",
      "Epoch: [2/5], Step: [701/782], Validation Acc: 62.3\n",
      "Epoch: [3/5], Step: [101/782], Validation Acc: 61.8\n",
      "Epoch: [3/5], Step: [201/782], Validation Acc: 63.9\n",
      "Epoch: [3/5], Step: [301/782], Validation Acc: 63.6\n",
      "Epoch: [3/5], Step: [401/782], Validation Acc: 64.4\n",
      "Epoch: [3/5], Step: [501/782], Validation Acc: 62.5\n",
      "Epoch: [3/5], Step: [601/782], Validation Acc: 62.7\n",
      "Epoch: [3/5], Step: [701/782], Validation Acc: 64.7\n",
      "Epoch: [4/5], Step: [101/782], Validation Acc: 64.5\n",
      "Epoch: [4/5], Step: [201/782], Validation Acc: 63.4\n",
      "Epoch: [4/5], Step: [301/782], Validation Acc: 63.9\n",
      "Epoch: [4/5], Step: [401/782], Validation Acc: 63.6\n",
      "Epoch: [4/5], Step: [501/782], Validation Acc: 65.5\n",
      "Epoch: [4/5], Step: [601/782], Validation Acc: 65.6\n",
      "Epoch: [4/5], Step: [701/782], Validation Acc: 64.3\n",
      "Epoch: [5/5], Step: [101/782], Validation Acc: 63.6\n",
      "Epoch: [5/5], Step: [201/782], Validation Acc: 60.8\n",
      "Epoch: [5/5], Step: [301/782], Validation Acc: 63.3\n",
      "Epoch: [5/5], Step: [401/782], Validation Acc: 65.7\n",
      "Epoch: [5/5], Step: [501/782], Validation Acc: 65.7\n",
      "Epoch: [5/5], Step: [601/782], Validation Acc: 64.3\n",
      "Epoch: [5/5], Step: [701/782], Validation Acc: 65.1\n",
      "Time elapse: 462.9394898414612\n"
     ]
    }
   ],
   "source": [
    "t0 = time.time()\n",
    "val_acc_epochs_CNN_300 = []\n",
    "\n",
    "def test_model(loader, model):\n",
    "    \"\"\"\n",
    "    Help function that tests the model's performance on a dataset\n",
    "    @param: loader - data loader for the dataset to test against\n",
    "    \"\"\"\n",
    "    correct = 0\n",
    "    total = 0\n",
    "    model.eval()\n",
    "    for s1, s2, length_1, length_2, labels in loader:\n",
    "        s1_batch, s2_batch, length_1_batch, length_2_batch, label_batch= s1, s2, length_1, length_2, labels\n",
    "        outputs = F.softmax(model(s1_batch, s2_batch, length_1_batch, length_2_batch), dim=1)\n",
    "        predicted = outputs.max(1, keepdim=True)[1]\n",
    "\n",
    "        total += labels.size(0)\n",
    "        correct += predicted.eq(labels.view_as(predicted)).sum().item()\n",
    "    return (100 * correct / total)\n",
    "\n",
    "\n",
    "model = CNN(hidden_size=300, num_layers=2, num_classes=3, vocab_size=len(vocab))\n",
    "model.to(device)\n",
    "num_p = sum((p.numel() for p in model.parameters() if p.requires_grad))\n",
    "print('number of parameters:{}'.format(num_p))\n",
    "learning_rate = 3e-4\n",
    "num_epochs = 5\n",
    "\n",
    "# Criterion and Optimizer\n",
    "criterion = torch.nn.CrossEntropyLoss()\n",
    "optimizer = torch.optim.Adam(model.parameters(), lr=learning_rate)\n",
    "\n",
    "# Train the model\n",
    "total_step = len(train_loader)\n",
    "\n",
    "for epoch in range(num_epochs):\n",
    "    for i, (s1, s2, length_1, length_2, labels) in enumerate(train_loader):\n",
    "        model.train()\n",
    "        optimizer.zero_grad()\n",
    "        # Forward pass\n",
    "        outputs = model(s1, s2, length_1, length_2)\n",
    "        loss = criterion(outputs, labels)\n",
    "        \n",
    "\n",
    "        # Backward and optimize\n",
    "        loss.backward()\n",
    "        optimizer.step()\n",
    "        # validate every 100 iterations\n",
    "        if i > 0 and i % 100 == 0:\n",
    "            # validate\n",
    "            val_acc = test_model(val_loader, model)\n",
    "            val_acc_epochs_CNN_300.append(val_acc)\n",
    "            print('Epoch: [{}/{}], Step: [{}/{}], Validation Acc: {}'.format(\n",
    "                       epoch+1, num_epochs, i+1, len(train_loader), val_acc))\n",
    "\n",
    "t1 = time.time()\n",
    "print ('Time elapse: {}'.format(t1-t0))"
   ]
  },
  {
   "cell_type": "markdown",
   "metadata": {},
   "source": [
    "### Model VII"
   ]
  },
  {
   "cell_type": "code",
   "execution_count": null,
   "metadata": {
    "collapsed": true
   },
   "outputs": [],
   "source": [
    "t0 = time.time()\n",
    "val_acc_epochs_CNN_500 = []\n",
    "\n",
    "def test_model(loader, model):\n",
    "    \"\"\"\n",
    "    Help function that tests the model's performance on a dataset\n",
    "    @param: loader - data loader for the dataset to test against\n",
    "    \"\"\"\n",
    "    correct = 0\n",
    "    total = 0\n",
    "    model.eval()\n",
    "    for s1, s2, length_1, length_2, labels in loader:\n",
    "        s1_batch, s2_batch, length_1_batch, length_2_batch, label_batch= s1, s2, length_1, length_2, labels\n",
    "        outputs = F.softmax(model(s1_batch, s2_batch, length_1_batch, length_2_batch), dim=1)\n",
    "        predicted = outputs.max(1, keepdim=True)[1]\n",
    "\n",
    "        total += labels.size(0)\n",
    "        correct += predicted.eq(labels.view_as(predicted)).sum().item()\n",
    "    return (100 * correct / total)\n",
    "\n",
    "\n",
    "model = CNN(hidden_size=500, num_layers=2, num_classes=3, vocab_size=len(vocab))\n",
    "model.to(device)\n",
    "num_p = sum((p.numel() for p in model.parameters() if p.requires_grad))\n",
    "print('number of parameters:{}'.format(num_p))\n",
    "learning_rate = 3e-4\n",
    "num_epochs = 5\n",
    "\n",
    "# Criterion and Optimizer\n",
    "criterion = torch.nn.CrossEntropyLoss()\n",
    "optimizer = torch.optim.Adam(model.parameters(), lr=learning_rate)\n",
    "\n",
    "# Train the model\n",
    "total_step = len(train_loader)\n",
    "\n",
    "for epoch in range(num_epochs):\n",
    "    for i, (s1, s2, length_1, length_2, labels) in enumerate(train_loader):\n",
    "        model.train()\n",
    "        optimizer.zero_grad()\n",
    "        # Forward pass\n",
    "        outputs = model(s1, s2, length_1, length_2)\n",
    "        loss = criterion(outputs, labels)\n",
    "        \n",
    "\n",
    "        # Backward and optimize\n",
    "        loss.backward()\n",
    "        optimizer.step()\n",
    "        # validate every 100 iterations\n",
    "        if i > 0 and i % 100 == 0:\n",
    "            # validate\n",
    "            val_acc = test_model(val_loader, model)\n",
    "            val_acc_epochs_CNN_500.append(val_acc)\n",
    "            print('Epoch: [{}/{}], Step: [{}/{}], Validation Acc: {}'.format(\n",
    "                       epoch+1, num_epochs, i+1, len(train_loader), val_acc))\n",
    "parameters = list(model.parameters())\n",
    "print(len(parameters))\n",
    "\n",
    "t1 = time.time()\n",
    "print ('Time elapse: {}'.format(t1-t0))"
   ]
  },
  {
   "cell_type": "markdown",
   "metadata": {},
   "source": [
    "### Model VIII"
   ]
  },
  {
   "cell_type": "code",
   "execution_count": null,
   "metadata": {},
   "outputs": [
    {
     "name": "stdout",
     "output_type": "stream",
     "text": [
      "number of parameters:7910003\n"
     ]
    },
    {
     "name": "stderr",
     "output_type": "stream",
     "text": [
      "/home/wq244/anaconda3/lib/python3.5/site-packages/ipykernel_launcher.py:40: UserWarning: invalid index of a 0-dim tensor. This will be an error in PyTorch 0.5. Use tensor.item() to convert a 0-dim tensor to a Python number\n"
     ]
    },
    {
     "name": "stdout",
     "output_type": "stream",
     "text": [
      "Epoch: [1/5], Step: [101/782], Validation Acc: 34.9\n",
      "Epoch: [1/5], Step: [201/782], Validation Acc: 46.9\n"
     ]
    }
   ],
   "source": [
    "t0 = time.time()\n",
    "val_acc_epochs_CNN_1000 = []\n",
    "val_loss_CNN_1000 = []\n",
    "train_loss_CNN_1000 =[]\n",
    "def test_model(loader, model):\n",
    "    \"\"\"\n",
    "    Help function that tests the model's performance on a dataset\n",
    "    @param: loader - data loader for the dataset to test against\n",
    "    \"\"\"\n",
    "    correct = 0\n",
    "    total = 0\n",
    "    model.eval()\n",
    "    running_loss = 0\n",
    "    for s1, s2, length_1, length_2, labels in loader:\n",
    "        s1_batch, s2_batch, length_1_batch, length_2_batch, label_batch= s1, s2, length_1, length_2, labels\n",
    "        outputs = F.softmax(model(s1_batch, s2_batch, length_1_batch, length_2_batch), dim=1)\n",
    "        predicted = outputs.max(1, keepdim=True)[1]\n",
    "        loss = criterion(outputs, labels)\n",
    "\n",
    "        running_loss += loss.item()       \n",
    "\n",
    "        total += labels.size(0)\n",
    "        correct += predicted.eq(labels.view_as(predicted)).sum().item()\n",
    "    val_loss = running_loss/len(loader)\n",
    "    return (100 * correct / total), val_loss\n",
    "\n",
    "\n",
    "model = CNN(hidden_size=1000, num_layers=2, num_classes=3, vocab_size=len(vocab))\n",
    "model.to(device)\n",
    "num_p = sum((p.numel() for p in model.parameters() if p.requires_grad))\n",
    "print('number of parameters:{}'.format(num_p))\n",
    "learning_rate = 3e-4\n",
    "num_epochs = 5\n",
    "\n",
    "# Criterion and Optimizer\n",
    "criterion = torch.nn.CrossEntropyLoss()\n",
    "optimizer = torch.optim.Adam(model.parameters(), lr=learning_rate)\n",
    "\n",
    "# Train the model\n",
    "total_step = len(train_loader)\n",
    "\n",
    "for epoch in range(num_epochs):\n",
    "    running_loss = 0.0\n",
    "    for i, (s1, s2, length_1, length_2, labels) in enumerate(train_loader):\n",
    "        model.train()\n",
    "        optimizer.zero_grad()\n",
    "        # Forward pass\n",
    "        outputs = model(s1, s2, length_1, length_2)\n",
    "        loss = criterion(outputs, labels)\n",
    "        \n",
    "\n",
    "        # Backward and optimize\n",
    "        loss.backward()\n",
    "        optimizer.step()\n",
    "        running_loss += loss.item() \n",
    "        # validate every 100 iterations\n",
    "        if i > 0 and i % 100 == 0:\n",
    "            # validate\n",
    "            val_acc, val_loss = test_model(val_loader, model)\n",
    "            val_acc_epochs_CNN_1000.append(val_acc)\n",
    "            \n",
    "            print('Epoch: [{}/{}], Step: [{}/{}], Validation Acc: {}'.format(\n",
    "                       epoch+1, num_epochs, i+1, len(train_loader), val_acc))\n",
    "    val_loss_CNN_1000.append(val_loss)        \n",
    "    train_loss = running_loss/total_step\n",
    "    train_loss_CNN_1000.append(train_loss)\n",
    "    print('Training Loss: {}, Validation Loss: {}'.format(train_loss, val_loss))\n",
    "    \n",
    "\n",
    "t1 = time.time()\n",
    "print ('Time elapse: {}'.format(t1-t0))"
   ]
  },
  {
   "cell_type": "code",
   "execution_count": 26,
   "metadata": {},
   "outputs": [
    {
     "data": {
      "text/plain": [
       "<matplotlib.text.Text at 0x7f8d3274e588>"
      ]
     },
     "execution_count": 26,
     "metadata": {},
     "output_type": "execute_result"
    },
    {
     "data": {
      "image/png": "[encoded data removed]",
      "text/plain": [
       "<matplotlib.figure.Figure at 0x7f8d331782b0>"
      ]
     },
     "metadata": {},
     "output_type": "display_data"
    }
   ],
   "source": [
    "%matplotlib inline\n",
    "hs_1=plt.plot(val_acc_epochs_CNN_100, marker='o', label='hidden size=100')\n",
    "hs_3=plt.plot(val_acc_epochs_CNN_300, marker='o', label='hidden size=300')\n",
    "hs_5=plt.plot(val_acc_epochs_CNN_500, marker='o', label='hidden size=500')\n",
    "hs_10=plt.plot(val_acc_epochs_CNN_1000, marker='o', label='hidden size=1000')\n",
    "\n",
    "\n",
    "plt.legend()\n",
    "plt.xticks([])\n",
    "plt.grid()\n",
    "plt.ylabel('Validation Accuracy')\n"
   ]
  },
  {
   "cell_type": "code",
   "execution_count": 237,
   "metadata": {},
   "outputs": [
    {
     "name": "stderr",
     "output_type": "stream",
     "text": [
      "/home/wq244/anaconda3/lib/python3.5/site-packages/ipykernel_launcher.py:40: UserWarning: invalid index of a 0-dim tensor. This will be an error in PyTorch 0.5. Use tensor.item() to convert a 0-dim tensor to a Python number\n"
     ]
    },
    {
     "name": "stdout",
     "output_type": "stream",
     "text": [
      "s1: ['A', 'man', 'in', 'a', 'brown', 'jacket', ',', 'white', 'shirt', ',', 'and', 'dark', '<unk>', 'is', 'holding', 'a', 'book', 'with', 'his', 'finger', 'on', 'the', 'page', 'while', 'sitting', 'on', 'a', 'wooden', 'floor', ',', 'and', 'leaning', 'against', 'a', 'yellow', 'wall', 'with', 'a', 'door', 'on', 'one', 'side', 'and', 'cloths', 'on', '<unk>', 'on', 'the', 'other', 'side', '.', '<pad>', '<pad>', '<pad>', '<pad>', '<pad>', '<pad>', '<pad>', '<pad>', '<pad>', '<pad>', '<pad>', '<pad>', '<pad>', '<pad>', '<pad>', '<pad>', '<pad>', '<pad>', '<pad>', '<pad>', '<pad>', '<pad>', '<pad>', '<pad>', '<pad>', '<pad>', '<pad>', '<pad>', '<pad>', '<pad>', '<pad>'], s2: ['A', 'man', 'sits', 'on', 'a', 'wooden', 'floor', 'building', 'a', 'model', 'ship', '.', '<pad>', '<pad>', '<pad>', '<pad>', '<pad>', '<pad>', '<pad>', '<pad>', '<pad>', '<pad>', '<pad>', '<pad>', '<pad>', '<pad>', '<pad>', '<pad>', '<pad>', '<pad>', '<pad>', '<pad>', '<pad>', '<pad>', '<pad>', '<pad>', '<pad>', '<pad>', '<pad>', '<pad>', '<pad>'],  Label: 0, Predicted: tensor([0], device='cuda:0')\n",
      "s1: ['Three', 'women', ',', 'two', 'wearing', 'red', 'shirts', 'and', 'one', 'wearing', 'a', 'purple', 'shirt', ',', 'and', 'a', 'man', ',', 'wearing', 'a', 'light', 'blue', 'shirt', ',', 'jump', 'on', 'a', 'basketball', 'court', 'with', 'balls', 'in', 'their', 'hands', '.', '<pad>', '<pad>', '<pad>', '<pad>', '<pad>', '<pad>', '<pad>', '<pad>', '<pad>', '<pad>', '<pad>', '<pad>', '<pad>', '<pad>', '<pad>', '<pad>', '<pad>', '<pad>', '<pad>', '<pad>', '<pad>', '<pad>', '<pad>', '<pad>', '<pad>', '<pad>', '<pad>', '<pad>', '<pad>', '<pad>', '<pad>', '<pad>', '<pad>', '<pad>', '<pad>', '<pad>', '<pad>', '<pad>', '<pad>', '<pad>', '<pad>', '<pad>', '<pad>', '<pad>', '<pad>', '<pad>', '<pad>'], s2: ['Three', 'people', \"'s\", 'are', 'eating', 'in', 'hotel', '.', '<pad>', '<pad>', '<pad>', '<pad>', '<pad>', '<pad>', '<pad>', '<pad>', '<pad>', '<pad>', '<pad>', '<pad>', '<pad>', '<pad>', '<pad>', '<pad>', '<pad>', '<pad>', '<pad>', '<pad>', '<pad>', '<pad>', '<pad>', '<pad>', '<pad>', '<pad>', '<pad>', '<pad>', '<pad>', '<pad>', '<pad>', '<pad>', '<pad>'],  Label: 0, Predicted: tensor([0], device='cuda:0')\n",
      "s1: ['A', 'man', 'wearing', 'a', 'black', 'T-shirt', 'and', 'a', 'tan', 'jacket', 'wrapped', 'around', 'his', 'waist', 'pulls', 'a', 'wheeled', 'gray', 'and', 'black', 'bag', 'as', 'he', 'walks', 'next', 'to', 'a', 'building', 'that', 'has', 'large', 'glass', 'windows', '.', '<pad>', '<pad>', '<pad>', '<pad>', '<pad>', '<pad>', '<pad>', '<pad>', '<pad>', '<pad>', '<pad>', '<pad>', '<pad>', '<pad>', '<pad>', '<pad>', '<pad>', '<pad>', '<pad>', '<pad>', '<pad>', '<pad>', '<pad>', '<pad>', '<pad>', '<pad>', '<pad>', '<pad>', '<pad>', '<pad>', '<pad>', '<pad>', '<pad>', '<pad>', '<pad>', '<pad>', '<pad>', '<pad>', '<pad>', '<pad>', '<pad>', '<pad>', '<pad>', '<pad>', '<pad>', '<pad>', '<pad>', '<pad>'], s2: ['A', 'person', 'walking', 'outside', '.', '<pad>', '<pad>', '<pad>', '<pad>', '<pad>', '<pad>', '<pad>', '<pad>', '<pad>', '<pad>', '<pad>', '<pad>', '<pad>', '<pad>', '<pad>', '<pad>', '<pad>', '<pad>', '<pad>', '<pad>', '<pad>', '<pad>', '<pad>', '<pad>', '<pad>', '<pad>', '<pad>', '<pad>', '<pad>', '<pad>', '<pad>', '<pad>', '<pad>', '<pad>', '<pad>', '<pad>'],  Label: 1, Predicted: tensor([1], device='cuda:0')\n",
      "s1: ['Three', 'women', 'on', 'a', 'stage', ',', 'one', 'wearing', 'red', 'shoes', ',', 'black', 'pants', ',', 'and', 'a', 'gray', 'shirt', 'is', 'sitting', 'on', 'a', 'prop', ',', 'another', 'is', 'sitting', 'on', 'the', 'floor', ',', 'and', 'the', 'third', 'wearing', 'a', 'black', 'shirt', 'and', 'pants', 'is', 'standing', ',', 'as', 'a', 'gentleman', 'in', 'the', 'back', 'tunes', 'an', 'instrument', '.', '<pad>', '<pad>', '<pad>', '<pad>', '<pad>', '<pad>', '<pad>', '<pad>', '<pad>', '<pad>', '<pad>', '<pad>', '<pad>', '<pad>', '<pad>', '<pad>', '<pad>', '<pad>', '<pad>', '<pad>', '<pad>', '<pad>', '<pad>', '<pad>', '<pad>', '<pad>', '<pad>', '<pad>', '<pad>'], s2: ['There', 'are', 'two', 'women', 'standing', 'on', 'the', 'stage', '<pad>', '<pad>', '<pad>', '<pad>', '<pad>', '<pad>', '<pad>', '<pad>', '<pad>', '<pad>', '<pad>', '<pad>', '<pad>', '<pad>', '<pad>', '<pad>', '<pad>', '<pad>', '<pad>', '<pad>', '<pad>', '<pad>', '<pad>', '<pad>', '<pad>', '<pad>', '<pad>', '<pad>', '<pad>', '<pad>', '<pad>', '<pad>', '<pad>'],  Label: 0, Predicted: tensor([0], device='cuda:0')\n",
      "s1: ['People', '<unk>', 'in', 'the', 'foreground', 'and', 'background', ',', 'two', 'of', 'them', 'are', 'walking', 'towards', 'those', 'in', 'the', 'background', 'that', 'are', 'positioned', 'nearby', 'of', 'a', 'building', 'that', 'is', 'overshadowed', 'by', 'a', 'large', 'number', 'of', 'trees', ',', 'while', 'the', 'two', 'in', 'the', 'foreground', 'are', 'tending', 'to', 'a', 'horse', 'drawn', 'carriage', '.', '<pad>', '<pad>', '<pad>', '<pad>', '<pad>', '<pad>', '<pad>', '<pad>', '<pad>', '<pad>', '<pad>', '<pad>', '<pad>', '<pad>', '<pad>', '<pad>', '<pad>', '<pad>', '<pad>', '<pad>', '<pad>', '<pad>', '<pad>', '<pad>', '<pad>', '<pad>', '<pad>', '<pad>', '<pad>', '<pad>', '<pad>', '<pad>', '<pad>'], s2: ['Some', 'Amish', 'people', 'are', 'fixing', 'their', 'carriage', 'while', 'other', 'people', 'walk', 'or', 'stand', 'nearby', '.', '<pad>', '<pad>', '<pad>', '<pad>', '<pad>', '<pad>', '<pad>', '<pad>', '<pad>', '<pad>', '<pad>', '<pad>', '<pad>', '<pad>', '<pad>', '<pad>', '<pad>', '<pad>', '<pad>', '<pad>', '<pad>', '<pad>', '<pad>', '<pad>', '<pad>', '<pad>'],  Label: 2, Predicted: tensor([2], device='cuda:0')\n",
      "s1: ['There', 'are', 'four', 'US', 'military', 'soldiers', 'in', 'this', 'photo', ',', 'only', 'two', 'have', 'their', 'faces', 'in', 'the', 'picture', ',', 'there', 'is', 'a', 'pack', 'of', 'cigarettes', 'by', 'one', 'of', 'their', 'boots', ',', 'they', 'appear', 'to', 'be', 'fixing', 'a', 'motorcycle', '.', '<pad>', '<pad>', '<pad>', '<pad>', '<pad>', '<pad>', '<pad>', '<pad>', '<pad>', '<pad>', '<pad>', '<pad>', '<pad>', '<pad>', '<pad>', '<pad>', '<pad>', '<pad>', '<pad>', '<pad>', '<pad>', '<pad>', '<pad>', '<pad>', '<pad>', '<pad>', '<pad>', '<pad>', '<pad>', '<pad>', '<pad>', '<pad>', '<pad>', '<pad>', '<pad>', '<pad>', '<pad>', '<pad>', '<pad>', '<pad>', '<pad>', '<pad>', '<pad>'], s2: ['A', '<unk>', 'being', 'fixed', 'by', 'a', 'group', 'of', 'men', '.', '<pad>', '<pad>', '<pad>', '<pad>', '<pad>', '<pad>', '<pad>', '<pad>', '<pad>', '<pad>', '<pad>', '<pad>', '<pad>', '<pad>', '<pad>', '<pad>', '<pad>', '<pad>', '<pad>', '<pad>', '<pad>', '<pad>', '<pad>', '<pad>', '<pad>', '<pad>', '<pad>', '<pad>', '<pad>', '<pad>', '<pad>'],  Label: 1, Predicted: tensor([1], device='cuda:0')\n"
     ]
    }
   ],
   "source": [
    "three_correct_perdict(val_loader, model)"
   ]
  },
  {
   "cell_type": "code",
   "execution_count": 238,
   "metadata": {},
   "outputs": [
    {
     "name": "stderr",
     "output_type": "stream",
     "text": [
      "/home/wq244/anaconda3/lib/python3.5/site-packages/ipykernel_launcher.py:40: UserWarning: invalid index of a 0-dim tensor. This will be an error in PyTorch 0.5. Use tensor.item() to convert a 0-dim tensor to a Python number\n"
     ]
    },
    {
     "name": "stdout",
     "output_type": "stream",
     "text": [
      "s1: ['A', '<unk>', 'woman', 'in', 'a', 'blue', 'top', 'and', 'black', '<unk>', 'looks', 'off', 'to', 'the', 'side', 'of', 'the', 'camera', 'with', 'a', 'drink', 'in', 'one', 'hand', 'and', 'a', 'amused', 'look', 'upon', 'her', 'face', ',', 'while', 'a', 'man', 'sits', 'next', 'to', 'her', ',', 'looking', '<unk>', ',', 'drink', 'in', 'one', 'hand', ',', 'straw', 'in', 'the', 'other', '.', '<pad>', '<pad>', '<pad>', '<pad>', '<pad>', '<pad>', '<pad>', '<pad>', '<pad>', '<pad>', '<pad>', '<pad>', '<pad>', '<pad>', '<pad>', '<pad>', '<pad>', '<pad>', '<pad>', '<pad>', '<pad>', '<pad>', '<pad>', '<pad>', '<pad>', '<pad>', '<pad>', '<pad>', '<pad>'], s2: ['A', 'man', 'and', 'woman', 'are', 'having', 'drinks', 'in', 'a', 'bar', '.', '<pad>', '<pad>', '<pad>', '<pad>', '<pad>', '<pad>', '<pad>', '<pad>', '<pad>', '<pad>', '<pad>', '<pad>', '<pad>', '<pad>', '<pad>', '<pad>', '<pad>', '<pad>', '<pad>', '<pad>', '<pad>', '<pad>', '<pad>', '<pad>', '<pad>', '<pad>', '<pad>', '<pad>', '<pad>', '<pad>'],  Label: 2, Predicted: tensor([0], device='cuda:0')\n",
      "s1: ['Two', 'men', 'dressed', 'in', 'identical', 'white', 'jackets', 'with', 'green', 'numbers', 'and', 'logo', 'are', 'studying', 'something', 'on', 'a', 'cellphone', 'with', 'great', 'interest', ',', 'while', 'other', 'men', ',', 'identically', 'dressed', 'and', 'standing', 'in', 'a', 'group', 'with', 'these', 'two', ',', 'are', 'interested', 'in', 'something', 'to', 'their', 'right', '.', '<pad>', '<pad>', '<pad>', '<pad>', '<pad>', '<pad>', '<pad>', '<pad>', '<pad>', '<pad>', '<pad>', '<pad>', '<pad>', '<pad>', '<pad>', '<pad>', '<pad>', '<pad>', '<pad>', '<pad>', '<pad>', '<pad>', '<pad>', '<pad>', '<pad>', '<pad>', '<pad>', '<pad>', '<pad>', '<pad>', '<pad>', '<pad>', '<pad>', '<pad>', '<pad>', '<pad>', '<pad>'], s2: ['Three', 'men', 'in', 'matching', 'jackets', 'are', 'standing', 'together', ',', 'one', 'looking', 'at', 'a', 'nearby', 'person', ',', 'the', 'other', 'two', 'looking', 'at', 'a', 'phone', '.', '<pad>', '<pad>', '<pad>', '<pad>', '<pad>', '<pad>', '<pad>', '<pad>', '<pad>', '<pad>', '<pad>', '<pad>', '<pad>', '<pad>', '<pad>', '<pad>', '<pad>'],  Label: 2, Predicted: tensor([1], device='cuda:0')\n",
      "s1: ['A', 'young', 'boy', 'in', 'a', 'cowboy', 'hat', 'and', 'holding', 'some', 'food', 'sits', 'in', 'the', 'back', 'of', 'a', 'small', 'vehicle', 'while', 'an', 'adult', 'leans', 'over', 'in', 'the', 'background', 'next', 'to', 'a', 'large', 'blue', 'device', 'displaying', 'the', 'words', '99', '%', 'Angel', '.', '<pad>', '<pad>', '<pad>', '<pad>', '<pad>', '<pad>', '<pad>', '<pad>', '<pad>', '<pad>', '<pad>', '<pad>', '<pad>', '<pad>', '<pad>', '<pad>', '<pad>', '<pad>', '<pad>', '<pad>', '<pad>', '<pad>', '<pad>', '<pad>', '<pad>', '<pad>', '<pad>', '<pad>', '<pad>', '<pad>', '<pad>', '<pad>', '<pad>', '<pad>', '<pad>', '<pad>', '<pad>', '<pad>', '<pad>', '<pad>', '<pad>', '<pad>'], s2: ['A', 'young', 'boy', 'in', 'a', 'cowboy', 'hat', 'is', 'holding', 'a', 'hamburger', '.', '<pad>', '<pad>', '<pad>', '<pad>', '<pad>', '<pad>', '<pad>', '<pad>', '<pad>', '<pad>', '<pad>', '<pad>', '<pad>', '<pad>', '<pad>', '<pad>', '<pad>', '<pad>', '<pad>', '<pad>', '<pad>', '<pad>', '<pad>', '<pad>', '<pad>', '<pad>', '<pad>', '<pad>', '<pad>'],  Label: 2, Predicted: tensor([1], device='cuda:0')\n",
      "s1: ['A', 'lone', ',', '2-3', 'year', 'old', 'blond', 'child', 'in', 'a', 'blue', 'jacket', 'is', 'putting', 'a', 'small', 'black', 'plastic', 'item', 'in', 'his', 'mouth', 'as', 'he', '<unk>', 'on', 'a', 'waiting', 'room', 'couch', 'pointed', 'toward', 'the', 'back', 'while', 'looking', 'at', 'something', 'or', 'someone', 'not', 'in', 'the', 'room', '.', '<pad>', '<pad>', '<pad>', '<pad>', '<pad>', '<pad>', '<pad>', '<pad>', '<pad>', '<pad>', '<pad>', '<pad>', '<pad>', '<pad>', '<pad>', '<pad>', '<pad>', '<pad>', '<pad>', '<pad>', '<pad>', '<pad>', '<pad>', '<pad>', '<pad>', '<pad>', '<pad>', '<pad>', '<pad>', '<pad>', '<pad>', '<pad>', '<pad>', '<pad>', '<pad>', '<pad>', '<pad>'], s2: ['The', 'child', 'is', 'blonde', '.', '<pad>', '<pad>', '<pad>', '<pad>', '<pad>', '<pad>', '<pad>', '<pad>', '<pad>', '<pad>', '<pad>', '<pad>', '<pad>', '<pad>', '<pad>', '<pad>', '<pad>', '<pad>', '<pad>', '<pad>', '<pad>', '<pad>', '<pad>', '<pad>', '<pad>', '<pad>', '<pad>', '<pad>', '<pad>', '<pad>', '<pad>', '<pad>', '<pad>', '<pad>', '<pad>', '<pad>'],  Label: 1, Predicted: tensor([2], device='cuda:0')\n",
      "s1: ['A', 'young', 'couple', 'sit', 'on', 'the', 'couch', ',', 'the', 'woman', 'wearing', 'a', 'blue', 'work', 'shirt', ',', 'her', 'eyes', 'half', 'closed', ',', 'while', 'the', 'man', 'sits', 'with', 'his', 'arm', 'around', 'her', ',', 'looking', 'towards', 'the', 'camera', ',', 'in', 'a', 'gray', 'shirt', '.', '<pad>', '<pad>', '<pad>', '<pad>', '<pad>', '<pad>', '<pad>', '<pad>', '<pad>', '<pad>', '<pad>', '<pad>', '<pad>', '<pad>', '<pad>', '<pad>', '<pad>', '<pad>', '<pad>', '<pad>', '<pad>', '<pad>', '<pad>', '<pad>', '<pad>', '<pad>', '<pad>', '<pad>', '<pad>', '<pad>', '<pad>', '<pad>', '<pad>', '<pad>', '<pad>', '<pad>', '<pad>', '<pad>', '<pad>', '<pad>', '<pad>'], s2: ['Two', 'brothers', 'sit', 'on', 'the', 'couch', '<pad>', '<pad>', '<pad>', '<pad>', '<pad>', '<pad>', '<pad>', '<pad>', '<pad>', '<pad>', '<pad>', '<pad>', '<pad>', '<pad>', '<pad>', '<pad>', '<pad>', '<pad>', '<pad>', '<pad>', '<pad>', '<pad>', '<pad>', '<pad>', '<pad>', '<pad>', '<pad>', '<pad>', '<pad>', '<pad>', '<pad>', '<pad>', '<pad>', '<pad>', '<pad>'],  Label: 0, Predicted: tensor([2], device='cuda:0')\n",
      "s1: ['There', 'are', 'three', 'men', 'in', 'this', 'picture', ',', 'two', 'are', 'on', 'motorbikes', ',', 'one', 'of', 'the', 'men', 'has', 'a', 'large', 'piece', 'of', 'furniture', 'on', 'the', 'back', 'of', 'his', 'bike', ',', 'the', 'other', 'is', 'about', 'to', 'be', 'handed', 'a', 'piece', 'of', 'paper', 'by', 'a', 'man', 'in', 'a', 'white', 'shirt', '.', '<pad>', '<pad>', '<pad>', '<pad>', '<pad>', '<pad>', '<pad>', '<pad>', '<pad>', '<pad>', '<pad>', '<pad>', '<pad>', '<pad>', '<pad>', '<pad>', '<pad>', '<pad>', '<pad>', '<pad>', '<pad>', '<pad>', '<pad>', '<pad>', '<pad>', '<pad>', '<pad>', '<pad>', '<pad>', '<pad>', '<pad>', '<pad>', '<pad>'], s2: ['A', 'man', 'is', 'receiving', 'a', 'piece', 'of', 'paper', '.', '<pad>', '<pad>', '<pad>', '<pad>', '<pad>', '<pad>', '<pad>', '<pad>', '<pad>', '<pad>', '<pad>', '<pad>', '<pad>', '<pad>', '<pad>', '<pad>', '<pad>', '<pad>', '<pad>', '<pad>', '<pad>', '<pad>', '<pad>', '<pad>', '<pad>', '<pad>', '<pad>', '<pad>', '<pad>', '<pad>', '<pad>', '<pad>'],  Label: 1, Predicted: tensor([0], device='cuda:0')\n",
      "s1: ['A', 'young', 'woman', 'with', 'red', 'hear', 'and', 'wearing', 'a', 'bikini', 'top', 'is', 'standing', 'with', 'her', 'hands', 'together', 'above', 'her', 'head', ',', 'while', 'three', 'other', 'people', 'stand', 'directly', 'behind', 'her', 'with', 'their', 'arms', 'in', 'different', 'positions', ',', 'making', 'the', 'woman', 'in', 'front', 'look', 'as', 'if', 'she', 'has', 'many', 'arms', '.', '<pad>', '<pad>', '<pad>', '<pad>', '<pad>', '<pad>', '<pad>', '<pad>', '<pad>', '<pad>', '<pad>', '<pad>', '<pad>', '<pad>', '<pad>', '<pad>', '<pad>', '<pad>', '<pad>', '<pad>', '<pad>', '<pad>', '<pad>', '<pad>', '<pad>', '<pad>', '<pad>', '<pad>', '<pad>', '<pad>', '<pad>', '<pad>', '<pad>'], s2: ['Some', 'people', 'are', 'holding', 'hands', 'and', 'walking', 'away', '.', '<pad>', '<pad>', '<pad>', '<pad>', '<pad>', '<pad>', '<pad>', '<pad>', '<pad>', '<pad>', '<pad>', '<pad>', '<pad>', '<pad>', '<pad>', '<pad>', '<pad>', '<pad>', '<pad>', '<pad>', '<pad>', '<pad>', '<pad>', '<pad>', '<pad>', '<pad>', '<pad>', '<pad>', '<pad>', '<pad>', '<pad>', '<pad>'],  Label: 0, Predicted: tensor([2], device='cuda:0')\n",
      "s1: ['On', 'stage', ',', 'the', '<unk>', 'of', 'a', 'piano', 'are', 'shown', 'next', 'to', 'a', 'man', 'at', 'a', 'desk', 'who', 'is', 'working', 'on', 'electronics', ',', 'while', 'a', '<unk>', 'man', 'is', 'looking', 'at', 'a', 'screen', 'which', 'shows', '<unk>', '<unk>', '<unk>', '.', '<pad>', '<pad>', '<pad>', '<pad>', '<pad>', '<pad>', '<pad>', '<pad>', '<pad>', '<pad>', '<pad>', '<pad>', '<pad>', '<pad>', '<pad>', '<pad>', '<pad>', '<pad>', '<pad>', '<pad>', '<pad>', '<pad>', '<pad>', '<pad>', '<pad>', '<pad>', '<pad>', '<pad>', '<pad>', '<pad>', '<pad>', '<pad>', '<pad>', '<pad>', '<pad>', '<pad>', '<pad>', '<pad>', '<pad>', '<pad>', '<pad>', '<pad>', '<pad>', '<pad>'], s2: ['The', 'men', 'are', 'shopping', 'at', 'the', 'market', '.', '<pad>', '<pad>', '<pad>', '<pad>', '<pad>', '<pad>', '<pad>', '<pad>', '<pad>', '<pad>', '<pad>', '<pad>', '<pad>', '<pad>', '<pad>', '<pad>', '<pad>', '<pad>', '<pad>', '<pad>', '<pad>', '<pad>', '<pad>', '<pad>', '<pad>', '<pad>', '<pad>', '<pad>', '<pad>', '<pad>', '<pad>', '<pad>', '<pad>'],  Label: 0, Predicted: tensor([2], device='cuda:0')\n",
      "s1: ['A', 'young', 'man', ',', 'without', 'apparent', 'protective', 'gear', ',', 'is', 'on', 'a', 'bicycle', 'jumping', 'over', 'small', 'hills', 'of', 'sand', 'or', 'gravel', ',', 'with', 'a', 'long', 'bridge', 'and', 'tall', 'buildings', 'in', 'the', 'background', '.', '<pad>', '<pad>', '<pad>', '<pad>', '<pad>', '<pad>', '<pad>', '<pad>', '<pad>', '<pad>', '<pad>', '<pad>', '<pad>', '<pad>', '<pad>', '<pad>', '<pad>', '<pad>', '<pad>', '<pad>', '<pad>', '<pad>', '<pad>', '<pad>', '<pad>', '<pad>', '<pad>', '<pad>', '<pad>', '<pad>', '<pad>', '<pad>', '<pad>', '<pad>', '<pad>', '<pad>', '<pad>', '<pad>', '<pad>', '<pad>', '<pad>', '<pad>', '<pad>', '<pad>', '<pad>', '<pad>', '<pad>', '<pad>', '<pad>'], s2: ['A', 'young', 'male', 'is', 'riding', 'his', 'bicycle', 'over', 'small', 'hills', '.', '<pad>', '<pad>', '<pad>', '<pad>', '<pad>', '<pad>', '<pad>', '<pad>', '<pad>', '<pad>', '<pad>', '<pad>', '<pad>', '<pad>', '<pad>', '<pad>', '<pad>', '<pad>', '<pad>', '<pad>', '<pad>', '<pad>', '<pad>', '<pad>', '<pad>', '<pad>', '<pad>', '<pad>', '<pad>', '<pad>'],  Label: 1, Predicted: tensor([2], device='cuda:0')\n"
     ]
    }
   ],
   "source": [
    "three_incorrect_perdict(val_loader, model)"
   ]
  },
  {
   "cell_type": "code",
   "execution_count": 222,
   "metadata": {},
   "outputs": [
    {
     "name": "stderr",
     "output_type": "stream",
     "text": [
      "/home/wq244/anaconda3/lib/python3.5/site-packages/ipykernel_launcher.py:40: UserWarning: invalid index of a 0-dim tensor. This will be an error in PyTorch 0.5. Use tensor.item() to convert a 0-dim tensor to a Python number\n"
     ]
    },
    {
     "name": "stdout",
     "output_type": "stream",
     "text": [
      "fiction:42.21105527638191, government:39.56692913385827, slate:39.920159680638726, telephone:41.492537313432834, travel:41.24236252545825\n"
     ]
    }
   ],
   "source": [
    "# validation on MNLI task\n",
    "CNN_1_val_acc = test_model(val_loader_1, model)\n",
    "CNN_2_val_acc = test_model(val_loader_2, model)\n",
    "CNN_3_val_acc = test_model(val_loader_3, model)\n",
    "CNN_4_val_acc = test_model(val_loader_4, model)\n",
    "CNN_5_val_acc = test_model(val_loader_5, model)\n",
    "print('fiction:{}, government:{}, slate:{}, telephone:{}, travel:{}'.format(CNN_1_val_acc, CNN_2_val_acc, CNN_3_val_acc, CNN_4_val_acc, CNN_5_val_acc))"
   ]
  },
  {
   "cell_type": "markdown",
   "metadata": {},
   "source": [
    "### Model IX"
   ]
  },
  {
   "cell_type": "code",
   "execution_count": 52,
   "metadata": {
    "collapsed": true
   },
   "outputs": [],
   "source": [
    "class CNN_5(nn.Module):\n",
    "    def __init__(self, hidden_size, num_layers, num_classes, vocab_size):\n",
    "\n",
    "        super(CNN_5, self).__init__()\n",
    "\n",
    "        self.num_layers, self.hidden_size = num_layers, hidden_size\n",
    "        # self.embedding = nn.Embedding(vocab_size, emb_size, padding_idx=PAD_IDX)\n",
    "    \n",
    "        # kernal size serve as the no. of works to bag together\n",
    "        self.conv1 = nn.Conv1d(300, hidden_size, kernel_size=5, padding=2)\n",
    "        self.conv2 = nn.Conv1d(hidden_size, hidden_size, kernel_size=5, padding=2)\n",
    "        self.pool = torch.nn.MaxPool1d(kernel_size=20, stride=1)\n",
    "        self.linear1 = nn.Linear(hidden_size*2, hidden_size*2)\n",
    "        self.linear2 = nn.Linear(hidden_size*2, num_classes)\n",
    "\n",
    "    def forward(self, s1, s2, s1_lengths, s2_lengths):\n",
    "        batch_size_1, seq_len_1 = s1.size()\n",
    "        batch_size_2, seq_len_2 = s2.size()\n",
    "\n",
    "        s1_embed = np.zeros((batch_size_1, seq_len_1, 300))\n",
    "        for row, i in enumerate(s1):\n",
    "            for col, j in enumerate(i):\n",
    "                s1_embed[row][col]=np.asarray(id2emb[j])\n",
    "        s1_embed = torch.FloatTensor(s1_embed).to(device)\n",
    "        # embed = self.embedding(x)\n",
    "        s1_hidden = self.conv1(s1_embed.transpose(1,2)).transpose(1,2)\n",
    "        # transfer the 3d tensor to 2d tensor\n",
    "        s1_hidden = F.relu(s1_hidden.contiguous().view(-1, s1_hidden.size(-1)).to(device)).view(batch_size_1, seq_len_1, s1_hidden.size(-1))\n",
    "\n",
    "        s1_hidden = self.conv2(s1_hidden.transpose(1,2).to(device)).transpose(1,2)\n",
    "        s1_hidden = F.relu(s1_hidden.contiguous().view(-1, s1_hidden.size(-1)).to(device)).view(batch_size_1, seq_len_1, s1_hidden.size(-1))\n",
    "        #s1_hidden = torch.sum(s1_hidden, dim=1)\n",
    "        \n",
    "        s1_cnn_out = self.pool(s1_hidden.transpose(1,2).to(device))\n",
    "        s1_cnn_out = torch.sum(s1_cnn_out.transpose(1,2), dim=1).to(device)\n",
    "        \n",
    "        s2_embed = np.zeros((batch_size_2, seq_len_2, 300))\n",
    "        for row, i in enumerate(s2):\n",
    "            for col, j in enumerate(i):\n",
    "                s2_embed[row][col]=np.asarray(id2emb[j[0]])\n",
    "        s2_embed = torch.FloatTensor(s2_embed).to(device)\n",
    "        s2_hidden = self.conv1(s2_embed.transpose(1,2)).transpose(1,2)\n",
    "        # transfer the 3d tensor to 2d tensor\n",
    "        s2_hidden = F.relu(s2_hidden.contiguous().view(-1, s2_hidden.size(-1)).to(device)).view(batch_size_2, seq_len_2, s2_hidden.size(-1))\n",
    "\n",
    "        s2_hidden = self.conv2(s2_hidden.transpose(1,2).to(device)).transpose(1,2)\n",
    "        s2_hidden = F.relu(s2_hidden.contiguous().view(-1, s2_hidden.size(-1)).to(device)).view(batch_size_2, seq_len_2, s2_hidden.size(-1))\n",
    "        \n",
    "        s2_cnn_out = self.pool(s2_hidden.transpose(1,2).to(device))\n",
    "        s2_cnn_out = torch.sum(s2_cnn_out.transpose(1,2), dim=1).to(device)\n",
    "        \n",
    "        cnn_out = torch.cat((s1_cnn_out, s2_cnn_out), 1)\n",
    "        out = self.linear1(cnn_out.to(device))\n",
    "        logits = self.linear2(out.to(device))\n",
    "        return logits"
   ]
  },
  {
   "cell_type": "code",
   "execution_count": 242,
   "metadata": {
    "scrolled": true
   },
   "outputs": [
    {
     "name": "stderr",
     "output_type": "stream",
     "text": [
      "/home/wq244/anaconda3/lib/python3.5/site-packages/ipykernel_launcher.py:40: UserWarning: invalid index of a 0-dim tensor. This will be an error in PyTorch 0.5. Use tensor.item() to convert a 0-dim tensor to a Python number\n"
     ]
    },
    {
     "name": "stdout",
     "output_type": "stream",
     "text": [
      "Epoch: [1/5], Step: [101/782], Validation Acc: 41.7\n",
      "Epoch: [1/5], Step: [201/782], Validation Acc: 46.0\n",
      "Epoch: [1/5], Step: [301/782], Validation Acc: 54.3\n",
      "Epoch: [1/5], Step: [401/782], Validation Acc: 54.4\n",
      "Epoch: [1/5], Step: [501/782], Validation Acc: 56.6\n",
      "Epoch: [1/5], Step: [601/782], Validation Acc: 58.8\n",
      "Epoch: [1/5], Step: [701/782], Validation Acc: 59.0\n",
      "Epoch: [2/5], Step: [101/782], Validation Acc: 60.4\n",
      "Epoch: [2/5], Step: [201/782], Validation Acc: 60.3\n",
      "Epoch: [2/5], Step: [301/782], Validation Acc: 60.8\n",
      "Epoch: [2/5], Step: [401/782], Validation Acc: 62.0\n",
      "Epoch: [2/5], Step: [501/782], Validation Acc: 62.7\n",
      "Epoch: [2/5], Step: [601/782], Validation Acc: 62.2\n",
      "Epoch: [2/5], Step: [701/782], Validation Acc: 61.7\n",
      "Epoch: [3/5], Step: [101/782], Validation Acc: 61.8\n",
      "Epoch: [3/5], Step: [201/782], Validation Acc: 62.2\n",
      "Epoch: [3/5], Step: [301/782], Validation Acc: 63.0\n",
      "Epoch: [3/5], Step: [401/782], Validation Acc: 62.3\n",
      "Epoch: [3/5], Step: [501/782], Validation Acc: 62.4\n",
      "Epoch: [3/5], Step: [601/782], Validation Acc: 61.5\n",
      "Epoch: [3/5], Step: [701/782], Validation Acc: 63.2\n",
      "Epoch: [4/5], Step: [101/782], Validation Acc: 63.7\n",
      "Epoch: [4/5], Step: [201/782], Validation Acc: 63.3\n",
      "Epoch: [4/5], Step: [301/782], Validation Acc: 63.0\n",
      "Epoch: [4/5], Step: [401/782], Validation Acc: 63.7\n",
      "Epoch: [4/5], Step: [501/782], Validation Acc: 63.6\n",
      "Epoch: [4/5], Step: [601/782], Validation Acc: 63.9\n",
      "Epoch: [4/5], Step: [701/782], Validation Acc: 65.4\n",
      "Epoch: [5/5], Step: [101/782], Validation Acc: 63.1\n",
      "Epoch: [5/5], Step: [201/782], Validation Acc: 63.5\n",
      "Epoch: [5/5], Step: [301/782], Validation Acc: 62.8\n",
      "Epoch: [5/5], Step: [401/782], Validation Acc: 63.6\n",
      "Epoch: [5/5], Step: [501/782], Validation Acc: 63.2\n",
      "Epoch: [5/5], Step: [601/782], Validation Acc: 63.2\n",
      "Epoch: [5/5], Step: [701/782], Validation Acc: 63.2\n",
      "Time elapse: 833.4716999530792\n"
     ]
    }
   ],
   "source": [
    "t0 = time.time()\n",
    "val_acc_epochs_CNN_1000_5 = []\n",
    "\n",
    "def test_model(loader, model):\n",
    "    \"\"\"\n",
    "    Help function that tests the model's performance on a dataset\n",
    "    @param: loader - data loader for the dataset to test against\n",
    "    \"\"\"\n",
    "    correct = 0\n",
    "    total = 0\n",
    "    model.eval()\n",
    "    for s1, s2, length_1, length_2, labels in loader:\n",
    "        s1_batch, s2_batch, length_1_batch, length_2_batch, label_batch= s1, s2, length_1, length_2, labels\n",
    "        outputs = F.softmax(model(s1_batch, s2_batch, length_1_batch, length_2_batch), dim=1)\n",
    "        predicted = outputs.max(1, keepdim=True)[1]\n",
    "\n",
    "        total += labels.size(0)\n",
    "        correct += predicted.eq(labels.view_as(predicted)).sum().item()\n",
    "    return (100 * correct / total)\n",
    "\n",
    "\n",
    "model = CNN_5(hidden_size=1000, num_layers=2, num_classes=3, vocab_size=len(vocab))\n",
    "model.to(device)\n",
    "num_p = sum((p.numel() for p in model.parameters() if p.requires_grad))\n",
    "print('number of parameters:{}'.format(num_p))\n",
    "learning_rate = 3e-4\n",
    "num_epochs = 5\n",
    "\n",
    "# Criterion and Optimizer\n",
    "criterion = torch.nn.CrossEntropyLoss()\n",
    "optimizer = torch.optim.Adam(model.parameters(), lr=learning_rate)\n",
    "\n",
    "# Train the model\n",
    "total_step = len(train_loader)\n",
    "\n",
    "for epoch in range(num_epochs):\n",
    "    for i, (s1, s2, length_1, length_2, labels) in enumerate(train_loader):\n",
    "        model.train()\n",
    "        optimizer.zero_grad()\n",
    "        # Forward pass\n",
    "        outputs = model(s1, s2, length_1, length_2)\n",
    "        loss = criterion(outputs, labels)\n",
    "        \n",
    "\n",
    "        # Backward and optimize\n",
    "        loss.backward()\n",
    "        optimizer.step()\n",
    "        # validate every 100 iterations\n",
    "        if i > 0 and i % 100 == 0:\n",
    "            # validate\n",
    "            val_acc = test_model(val_loader, model)\n",
    "            val_acc_epochs_CNN_1000_5.append(val_acc)\n",
    "            print('Epoch: [{}/{}], Step: [{}/{}], Validation Acc: {}'.format(\n",
    "                       epoch+1, num_epochs, i+1, len(train_loader), val_acc))\n",
    "\n",
    "t1 = time.time()\n",
    "print ('Time elapse: {}'.format(t1-t0))"
   ]
  },
  {
   "cell_type": "markdown",
   "metadata": {
    "collapsed": true
   },
   "source": [
    "### Model X"
   ]
  },
  {
   "cell_type": "code",
   "execution_count": 54,
   "metadata": {
    "collapsed": true
   },
   "outputs": [],
   "source": [
    "class CNN_11(nn.Module):\n",
    "    def __init__(self, hidden_size, num_layers, num_classes, vocab_size):\n",
    "\n",
    "        super(CNN_11, self).__init__()\n",
    "\n",
    "        self.num_layers, self.hidden_size = num_layers, hidden_size\n",
    "        # self.embedding = nn.Embedding(vocab_size, emb_size, padding_idx=PAD_IDX)\n",
    "    \n",
    "        # kernal size serve as the no. of works to bag together\n",
    "        self.conv1 = nn.Conv1d(300, hidden_size, kernel_size=11, padding=5)\n",
    "        self.conv2 = nn.Conv1d(hidden_size, hidden_size, kernel_size=11, padding=5)\n",
    "        self.pool = torch.nn.MaxPool1d(kernel_size=20, stride=1)\n",
    "        self.linear1 = nn.Linear(hidden_size*2, hidden_size*2)\n",
    "        self.linear2 = nn.Linear(hidden_size*2, num_classes)\n",
    "\n",
    "    def forward(self, s1, s2, s1_lengths, s2_lengths):\n",
    "        batch_size_1, seq_len_1 = s1.size()\n",
    "        batch_size_2, seq_len_2 = s2.size()\n",
    "\n",
    "        s1_embed = np.zeros((batch_size_1, seq_len_1, 300))\n",
    "        for row, i in enumerate(s1):\n",
    "            for col, j in enumerate(i):\n",
    "                s1_embed[row][col]=np.asarray(id2emb[j])\n",
    "        s1_embed = torch.FloatTensor(s1_embed).to(device)\n",
    "        # embed = self.embedding(x)\n",
    "        s1_hidden = self.conv1(s1_embed.transpose(1,2)).transpose(1,2)\n",
    "        # transfer the 3d tensor to 2d tensor\n",
    "        s1_hidden = F.relu(s1_hidden.contiguous().view(-1, s1_hidden.size(-1)).to(device)).view(batch_size_1, seq_len_1, s1_hidden.size(-1))\n",
    "\n",
    "        s1_hidden = self.conv2(s1_hidden.transpose(1,2).to(device)).transpose(1,2)\n",
    "        s1_hidden = F.relu(s1_hidden.contiguous().view(-1, s1_hidden.size(-1)).to(device)).view(batch_size_1, seq_len_1, s1_hidden.size(-1))\n",
    "        #s1_hidden = torch.sum(s1_hidden, dim=1)\n",
    "        \n",
    "        s1_cnn_out = self.pool(s1_hidden.transpose(1,2).to(device))\n",
    "        s1_cnn_out = torch.sum(s1_cnn_out.transpose(1,2), dim=1).to(device)\n",
    "        \n",
    "        s2_embed = np.zeros((batch_size_2, seq_len_2, 300))\n",
    "        for row, i in enumerate(s2):\n",
    "            for col, j in enumerate(i):\n",
    "                s2_embed[row][col]=np.asarray(id2emb[j[0]])\n",
    "        s2_embed = torch.FloatTensor(s2_embed).to(device)\n",
    "        s2_hidden = self.conv1(s2_embed.transpose(1,2)).transpose(1,2)\n",
    "        # transfer the 3d tensor to 2d tensor\n",
    "        s2_hidden = F.relu(s2_hidden.contiguous().view(-1, s2_hidden.size(-1)).to(device)).view(batch_size_2, seq_len_2, s2_hidden.size(-1))\n",
    "\n",
    "        s2_hidden = self.conv2(s2_hidden.transpose(1,2).to(device)).transpose(1,2)\n",
    "        s2_hidden = F.relu(s2_hidden.contiguous().view(-1, s2_hidden.size(-1)).to(device)).view(batch_size_2, seq_len_2, s2_hidden.size(-1))\n",
    "        \n",
    "        s2_cnn_out = self.pool(s2_hidden.transpose(1,2).to(device))\n",
    "        s2_cnn_out = torch.sum(s2_cnn_out.transpose(1,2), dim=1).to(device)\n",
    "        \n",
    "        cnn_out = torch.cat((s1_cnn_out, s2_cnn_out), 1)\n",
    "        out = self.linear1(cnn_out.to(device))\n",
    "        logits = self.linear2(out.to(device))\n",
    "        return logits"
   ]
  },
  {
   "cell_type": "code",
   "execution_count": 244,
   "metadata": {
    "scrolled": true
   },
   "outputs": [
    {
     "name": "stderr",
     "output_type": "stream",
     "text": [
      "/home/wq244/anaconda3/lib/python3.5/site-packages/ipykernel_launcher.py:40: UserWarning: invalid index of a 0-dim tensor. This will be an error in PyTorch 0.5. Use tensor.item() to convert a 0-dim tensor to a Python number\n"
     ]
    },
    {
     "name": "stdout",
     "output_type": "stream",
     "text": [
      "Epoch: [1/5], Step: [101/782], Validation Acc: 39.7\n",
      "Epoch: [1/5], Step: [201/782], Validation Acc: 46.7\n",
      "Epoch: [1/5], Step: [301/782], Validation Acc: 51.6\n",
      "Epoch: [1/5], Step: [401/782], Validation Acc: 53.2\n",
      "Epoch: [1/5], Step: [501/782], Validation Acc: 53.4\n",
      "Epoch: [1/5], Step: [601/782], Validation Acc: 55.1\n",
      "Epoch: [1/5], Step: [701/782], Validation Acc: 57.2\n",
      "Epoch: [2/5], Step: [101/782], Validation Acc: 58.7\n",
      "Epoch: [2/5], Step: [201/782], Validation Acc: 59.0\n",
      "Epoch: [2/5], Step: [301/782], Validation Acc: 58.4\n",
      "Epoch: [2/5], Step: [401/782], Validation Acc: 58.7\n",
      "Epoch: [2/5], Step: [501/782], Validation Acc: 58.6\n",
      "Epoch: [2/5], Step: [601/782], Validation Acc: 59.0\n",
      "Epoch: [2/5], Step: [701/782], Validation Acc: 59.0\n",
      "Epoch: [3/5], Step: [101/782], Validation Acc: 60.1\n",
      "Epoch: [3/5], Step: [201/782], Validation Acc: 59.4\n",
      "Epoch: [3/5], Step: [301/782], Validation Acc: 59.0\n",
      "Epoch: [3/5], Step: [401/782], Validation Acc: 59.0\n",
      "Epoch: [3/5], Step: [501/782], Validation Acc: 59.7\n",
      "Epoch: [3/5], Step: [601/782], Validation Acc: 61.2\n",
      "Epoch: [3/5], Step: [701/782], Validation Acc: 61.1\n",
      "Epoch: [4/5], Step: [101/782], Validation Acc: 58.1\n",
      "Epoch: [4/5], Step: [201/782], Validation Acc: 59.5\n",
      "Epoch: [4/5], Step: [301/782], Validation Acc: 60.1\n",
      "Epoch: [4/5], Step: [401/782], Validation Acc: 60.6\n",
      "Epoch: [4/5], Step: [501/782], Validation Acc: 61.2\n",
      "Epoch: [4/5], Step: [601/782], Validation Acc: 59.6\n",
      "Epoch: [4/5], Step: [701/782], Validation Acc: 59.1\n",
      "Epoch: [5/5], Step: [101/782], Validation Acc: 61.5\n",
      "Epoch: [5/5], Step: [201/782], Validation Acc: 60.4\n",
      "Epoch: [5/5], Step: [301/782], Validation Acc: 58.6\n",
      "Epoch: [5/5], Step: [401/782], Validation Acc: 60.8\n",
      "Epoch: [5/5], Step: [501/782], Validation Acc: 62.3\n",
      "Epoch: [5/5], Step: [601/782], Validation Acc: 61.1\n",
      "Epoch: [5/5], Step: [701/782], Validation Acc: 59.6\n",
      "Time elapse: 1351.44801735878\n"
     ]
    }
   ],
   "source": [
    "t0 = time.time()\n",
    "val_acc_epochs_CNN_1000_11 = []\n",
    "\n",
    "def test_model(loader, model):\n",
    "    \"\"\"\n",
    "    Help function that tests the model's performance on a dataset\n",
    "    @param: loader - data loader for the dataset to test against\n",
    "    \"\"\"\n",
    "    correct = 0\n",
    "    total = 0\n",
    "    model.eval()\n",
    "    for s1, s2, length_1, length_2, labels in loader:\n",
    "        s1_batch, s2_batch, length_1_batch, length_2_batch, label_batch= s1, s2, length_1, length_2, labels\n",
    "        outputs = F.softmax(model(s1_batch, s2_batch, length_1_batch, length_2_batch), dim=1)\n",
    "        predicted = outputs.max(1, keepdim=True)[1]\n",
    "\n",
    "        total += labels.size(0)\n",
    "        correct += predicted.eq(labels.view_as(predicted)).sum().item()\n",
    "    return (100 * correct / total)\n",
    "\n",
    "\n",
    "model = CNN_11(hidden_size=1000, num_layers=2, num_classes=3, vocab_size=len(vocab))\n",
    "model.to(device)\n",
    "num_p = sum((p.numel() for p in model.parameters() if p.requires_grad))\n",
    "print('number of parameters:{}'.format(num_p))\n",
    "learning_rate = 3e-4\n",
    "num_epochs = 5\n",
    "\n",
    "# Criterion and Optimizer\n",
    "criterion = torch.nn.CrossEntropyLoss()\n",
    "optimizer = torch.optim.Adam(model.parameters(), lr=learning_rate)\n",
    "\n",
    "# Train the model\n",
    "total_step = len(train_loader)\n",
    "\n",
    "for epoch in range(num_epochs):\n",
    "    for i, (s1, s2, length_1, length_2, labels) in enumerate(train_loader):\n",
    "        model.train()\n",
    "        optimizer.zero_grad()\n",
    "        # Forward pass\n",
    "        outputs = model(s1, s2, length_1, length_2)\n",
    "        loss = criterion(outputs, labels)\n",
    "        \n",
    "\n",
    "        # Backward and optimize\n",
    "        loss.backward()\n",
    "        optimizer.step()\n",
    "        # validate every 100 iterations\n",
    "        if i > 0 and i % 100 == 0:\n",
    "            # validate\n",
    "            val_acc = test_model(val_loader, model)\n",
    "            val_acc_epochs_CNN_1000_11.append(val_acc)\n",
    "            print('Epoch: [{}/{}], Step: [{}/{}], Validation Acc: {}'.format(\n",
    "                       epoch+1, num_epochs, i+1, len(train_loader), val_acc))\n",
    "\n",
    "t1 = time.time()\n",
    "print ('Time elapse: {}'.format(t1-t0))"
   ]
  },
  {
   "cell_type": "code",
   "execution_count": 245,
   "metadata": {},
   "outputs": [
    {
     "data": {
      "text/plain": [
       "<matplotlib.text.Text at 0x7feb4527b518>"
      ]
     },
     "execution_count": 245,
     "metadata": {},
     "output_type": "execute_result"
    },
    {
     "data": {
      "image/png": "[encoded data removed]",
      "text/plain": [
       "<matplotlib.figure.Figure at 0x7feb45981fd0>"
      ]
     },
     "metadata": {},
     "output_type": "display_data"
    }
   ],
   "source": [
    "k_3=plt.plot(val_acc_epochs_CNN_1000, marker='o', label='kernal size=3')\n",
    "k_5=plt.plot(val_acc_epochs_CNN_1000_5, marker='o', label='kernal size=5')\n",
    "k_11=plt.plot(val_acc_epochs_CNN_1000_11, marker='o', label='kernal size =11')\n",
    "\n",
    "\n",
    "\n",
    "plt.legend()\n",
    "plt.xticks([])\n",
    "plt.grid()\n",
    "plt.ylabel('Validation Accuracy')\n"
   ]
  }
 ],
 "metadata": {
  "kernelspec": {
   "display_name": "Python 3",
   "language": "python",
   "name": "python3"
  },
  "language_info": {
   "codemirror_mode": {
    "name": "ipython",
    "version": 3
   },
   "file_extension": ".py",
   "mimetype": "text/x-python",
   "name": "python",
   "nbconvert_exporter": "python",
   "pygments_lexer": "ipython3",
   "version": "3.5.4"
  }
 },
 "nbformat": 4,
 "nbformat_minor": 2
}
